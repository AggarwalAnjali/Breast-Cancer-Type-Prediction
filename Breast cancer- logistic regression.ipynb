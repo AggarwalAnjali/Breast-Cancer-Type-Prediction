{
 "cells": [
  {
   "cell_type": "markdown",
   "metadata": {},
   "source": [
    "### Anjali Aggarwal"
   ]
  },
  {
   "cell_type": "markdown",
   "metadata": {},
   "source": [
    "#             \"Breast cancer diagnosis using cell nucleus characterstics\""
   ]
  },
  {
   "cell_type": "markdown",
   "metadata": {},
   "source": [
    "# Tasks:\n",
    "#### 1) Build a logistic regression model with LASSO for variable selection. With lambda = 0.01 and lambda = 0.5\n",
    "##### - what are the features selected separately.Which lambda gives you simpler model? Which of these two models perform better on the testing set you hold out from the training process? What performance metrics are you using?\n",
    "- For lasso with lambda 0.01, three features were selected - RadiusW, PeriW,CPpointW\n",
    "- For lasso with lambda 0.5 , twenty two features were selected - RadiusM, TextM, PeriM, AreaM, SmoothM, ConcaveM, CPpointM, FracDimM, RadiusSE, PeriSE, AreaSE, CompactSE, SymSE, FracDimSE, RadiusW, TextW, PeriW, AreaW, SmoothW, ConcaveW, CPpointW, SymW\n",
    "- Model with lambda 0.01 gives simpler model (three features only) But model with lambda 0.5 performed better on test data.\n",
    "###### Performance matrics for model with lambda 0.01\n",
    "- accuracy- 0.82\n",
    "- pricision - 0.86\n",
    "- recall - 0.82\n",
    "- F1-score - 0.80\n",
    "###### Performance matrics for model with lambda 0.01\n",
    "- accuracy- 0.98\n",
    "- pricision - 0.98\n",
    "- recall - 0.98\n",
    "- F1-score- 0.98\n",
    "\n",
    "\n",
    "#### 2) In the model you trained in Task 1) \n",
    "###### which has better performance, what are the accuracy, recall, and precision? What probability threshold you are using when you calculate these performance metrics?\n",
    "- Model with lambda 0.5 performed better on test data. Accuracy, recall and pricision are 0.98. This model used default 0.5 threshold.\n",
    "\n",
    "\n",
    "#### 3) If you were told that the cost of misclassifying a malignant patient as benign is 100,000 USD, and the cost of misclassifying a benign patient as malignant is 10, 000 USD, and there is no cost of subjects accurately classified by the model.\n",
    "###### what are the costs when you set the probability threshold as 0.3, 0.5, 0.7? Which probability threshold gives you the lowest cost?\n",
    "- cost when threshold 0.3 - 340000 USD\n",
    "- cost when threshold 0.5 - 310000 USD\n",
    "- cost when threshold 0.7 - 600000 USD\n",
    "- probability threshold 0.5 gave lowest cost (310000$) because there is less false negative or type II error (misclassifying a malignant patient as benign) and less false positive or type I error (misclassifying a benign patient as malignant)\n",
    "\n"
   ]
  },
  {
   "cell_type": "code",
   "execution_count": 1,
   "metadata": {},
   "outputs": [],
   "source": [
    "#import python libraries\n",
    "import numpy as np\n",
    "import pandas as pd\n",
    "import matplotlib.pyplot as plt\n",
    "%matplotlib inline\n",
    "from matplotlib import pyplot\n",
    "import seaborn as sns\n",
    "from sklearn.metrics import confusion_matrix, classification_report"
   ]
  },
  {
   "cell_type": "code",
   "execution_count": 2,
   "metadata": {},
   "outputs": [],
   "source": [
    "# loading the data in panda dataframe\n",
    "filename = \"http://archive.ics.uci.edu/ml/machine-learning-databases/breast-cancer-wisconsin/wdbc.data\"\n",
    "cancer_df = pd.read_csv(filename)"
   ]
  },
  {
   "cell_type": "code",
   "execution_count": 3,
   "metadata": {},
   "outputs": [
    {
     "data": {
      "text/html": [
       "<div>\n",
       "<style scoped>\n",
       "    .dataframe tbody tr th:only-of-type {\n",
       "        vertical-align: middle;\n",
       "    }\n",
       "\n",
       "    .dataframe tbody tr th {\n",
       "        vertical-align: top;\n",
       "    }\n",
       "\n",
       "    .dataframe thead th {\n",
       "        text-align: right;\n",
       "    }\n",
       "</style>\n",
       "<table border=\"1\" class=\"dataframe\">\n",
       "  <thead>\n",
       "    <tr style=\"text-align: right;\">\n",
       "      <th></th>\n",
       "      <th>842302</th>\n",
       "      <th>M</th>\n",
       "      <th>17.99</th>\n",
       "      <th>10.38</th>\n",
       "      <th>122.8</th>\n",
       "      <th>1001</th>\n",
       "      <th>0.1184</th>\n",
       "      <th>0.2776</th>\n",
       "      <th>0.3001</th>\n",
       "      <th>0.1471</th>\n",
       "      <th>...</th>\n",
       "      <th>25.38</th>\n",
       "      <th>17.33</th>\n",
       "      <th>184.6</th>\n",
       "      <th>2019</th>\n",
       "      <th>0.1622</th>\n",
       "      <th>0.6656</th>\n",
       "      <th>0.7119</th>\n",
       "      <th>0.2654</th>\n",
       "      <th>0.4601</th>\n",
       "      <th>0.1189</th>\n",
       "    </tr>\n",
       "  </thead>\n",
       "  <tbody>\n",
       "    <tr>\n",
       "      <th>0</th>\n",
       "      <td>842517</td>\n",
       "      <td>M</td>\n",
       "      <td>20.57</td>\n",
       "      <td>17.77</td>\n",
       "      <td>132.90</td>\n",
       "      <td>1326.0</td>\n",
       "      <td>0.08474</td>\n",
       "      <td>0.07864</td>\n",
       "      <td>0.0869</td>\n",
       "      <td>0.07017</td>\n",
       "      <td>...</td>\n",
       "      <td>24.99</td>\n",
       "      <td>23.41</td>\n",
       "      <td>158.80</td>\n",
       "      <td>1956.0</td>\n",
       "      <td>0.1238</td>\n",
       "      <td>0.1866</td>\n",
       "      <td>0.2416</td>\n",
       "      <td>0.1860</td>\n",
       "      <td>0.2750</td>\n",
       "      <td>0.08902</td>\n",
       "    </tr>\n",
       "    <tr>\n",
       "      <th>1</th>\n",
       "      <td>84300903</td>\n",
       "      <td>M</td>\n",
       "      <td>19.69</td>\n",
       "      <td>21.25</td>\n",
       "      <td>130.00</td>\n",
       "      <td>1203.0</td>\n",
       "      <td>0.10960</td>\n",
       "      <td>0.15990</td>\n",
       "      <td>0.1974</td>\n",
       "      <td>0.12790</td>\n",
       "      <td>...</td>\n",
       "      <td>23.57</td>\n",
       "      <td>25.53</td>\n",
       "      <td>152.50</td>\n",
       "      <td>1709.0</td>\n",
       "      <td>0.1444</td>\n",
       "      <td>0.4245</td>\n",
       "      <td>0.4504</td>\n",
       "      <td>0.2430</td>\n",
       "      <td>0.3613</td>\n",
       "      <td>0.08758</td>\n",
       "    </tr>\n",
       "    <tr>\n",
       "      <th>2</th>\n",
       "      <td>84348301</td>\n",
       "      <td>M</td>\n",
       "      <td>11.42</td>\n",
       "      <td>20.38</td>\n",
       "      <td>77.58</td>\n",
       "      <td>386.1</td>\n",
       "      <td>0.14250</td>\n",
       "      <td>0.28390</td>\n",
       "      <td>0.2414</td>\n",
       "      <td>0.10520</td>\n",
       "      <td>...</td>\n",
       "      <td>14.91</td>\n",
       "      <td>26.50</td>\n",
       "      <td>98.87</td>\n",
       "      <td>567.7</td>\n",
       "      <td>0.2098</td>\n",
       "      <td>0.8663</td>\n",
       "      <td>0.6869</td>\n",
       "      <td>0.2575</td>\n",
       "      <td>0.6638</td>\n",
       "      <td>0.17300</td>\n",
       "    </tr>\n",
       "    <tr>\n",
       "      <th>3</th>\n",
       "      <td>84358402</td>\n",
       "      <td>M</td>\n",
       "      <td>20.29</td>\n",
       "      <td>14.34</td>\n",
       "      <td>135.10</td>\n",
       "      <td>1297.0</td>\n",
       "      <td>0.10030</td>\n",
       "      <td>0.13280</td>\n",
       "      <td>0.1980</td>\n",
       "      <td>0.10430</td>\n",
       "      <td>...</td>\n",
       "      <td>22.54</td>\n",
       "      <td>16.67</td>\n",
       "      <td>152.20</td>\n",
       "      <td>1575.0</td>\n",
       "      <td>0.1374</td>\n",
       "      <td>0.2050</td>\n",
       "      <td>0.4000</td>\n",
       "      <td>0.1625</td>\n",
       "      <td>0.2364</td>\n",
       "      <td>0.07678</td>\n",
       "    </tr>\n",
       "    <tr>\n",
       "      <th>4</th>\n",
       "      <td>843786</td>\n",
       "      <td>M</td>\n",
       "      <td>12.45</td>\n",
       "      <td>15.70</td>\n",
       "      <td>82.57</td>\n",
       "      <td>477.1</td>\n",
       "      <td>0.12780</td>\n",
       "      <td>0.17000</td>\n",
       "      <td>0.1578</td>\n",
       "      <td>0.08089</td>\n",
       "      <td>...</td>\n",
       "      <td>15.47</td>\n",
       "      <td>23.75</td>\n",
       "      <td>103.40</td>\n",
       "      <td>741.6</td>\n",
       "      <td>0.1791</td>\n",
       "      <td>0.5249</td>\n",
       "      <td>0.5355</td>\n",
       "      <td>0.1741</td>\n",
       "      <td>0.3985</td>\n",
       "      <td>0.12440</td>\n",
       "    </tr>\n",
       "  </tbody>\n",
       "</table>\n",
       "<p>5 rows × 32 columns</p>\n",
       "</div>"
      ],
      "text/plain": [
       "     842302  M  17.99  10.38   122.8    1001   0.1184   0.2776  0.3001  \\\n",
       "0    842517  M  20.57  17.77  132.90  1326.0  0.08474  0.07864  0.0869   \n",
       "1  84300903  M  19.69  21.25  130.00  1203.0  0.10960  0.15990  0.1974   \n",
       "2  84348301  M  11.42  20.38   77.58   386.1  0.14250  0.28390  0.2414   \n",
       "3  84358402  M  20.29  14.34  135.10  1297.0  0.10030  0.13280  0.1980   \n",
       "4    843786  M  12.45  15.70   82.57   477.1  0.12780  0.17000  0.1578   \n",
       "\n",
       "    0.1471   ...     25.38  17.33   184.6    2019  0.1622  0.6656  0.7119  \\\n",
       "0  0.07017   ...     24.99  23.41  158.80  1956.0  0.1238  0.1866  0.2416   \n",
       "1  0.12790   ...     23.57  25.53  152.50  1709.0  0.1444  0.4245  0.4504   \n",
       "2  0.10520   ...     14.91  26.50   98.87   567.7  0.2098  0.8663  0.6869   \n",
       "3  0.10430   ...     22.54  16.67  152.20  1575.0  0.1374  0.2050  0.4000   \n",
       "4  0.08089   ...     15.47  23.75  103.40   741.6  0.1791  0.5249  0.5355   \n",
       "\n",
       "   0.2654  0.4601   0.1189  \n",
       "0  0.1860  0.2750  0.08902  \n",
       "1  0.2430  0.3613  0.08758  \n",
       "2  0.2575  0.6638  0.17300  \n",
       "3  0.1625  0.2364  0.07678  \n",
       "4  0.1741  0.3985  0.12440  \n",
       "\n",
       "[5 rows x 32 columns]"
      ]
     },
     "execution_count": 3,
     "metadata": {},
     "output_type": "execute_result"
    }
   ],
   "source": [
    "#checking first 5 rows of the data\n",
    "cancer_df.head()"
   ]
  },
  {
   "cell_type": "code",
   "execution_count": 4,
   "metadata": {},
   "outputs": [],
   "source": [
    "# changing the features name according to information provided by the dataset at UCI repositiory\n",
    "cancer_df.columns = ['ID', 'Diagnosis','RadiusM', 'TextM', 'PeriM', 'AreaM', 'SmoothM', 'CompactM', 'ConcaveM', 'CPpointM', 'SymM', 'FracDimM','RadiusSE', 'TextSE', 'PeriSE', 'AreaSE', 'SmoothSE', 'CompactSE', 'ConcaveSE', 'CPpointSE', 'SymSE', 'FracDimSE', 'RadiusW', 'TextW', 'PeriW', 'AreaW', 'SmoothW', 'CompactW', 'ConcaveW', 'CPpointW', 'SymW', 'FracDimW']"
   ]
  },
  {
   "cell_type": "code",
   "execution_count": 5,
   "metadata": {},
   "outputs": [
    {
     "data": {
      "text/html": [
       "<div>\n",
       "<style scoped>\n",
       "    .dataframe tbody tr th:only-of-type {\n",
       "        vertical-align: middle;\n",
       "    }\n",
       "\n",
       "    .dataframe tbody tr th {\n",
       "        vertical-align: top;\n",
       "    }\n",
       "\n",
       "    .dataframe thead th {\n",
       "        text-align: right;\n",
       "    }\n",
       "</style>\n",
       "<table border=\"1\" class=\"dataframe\">\n",
       "  <thead>\n",
       "    <tr style=\"text-align: right;\">\n",
       "      <th></th>\n",
       "      <th>ID</th>\n",
       "      <th>Diagnosis</th>\n",
       "      <th>RadiusM</th>\n",
       "      <th>TextM</th>\n",
       "      <th>PeriM</th>\n",
       "      <th>AreaM</th>\n",
       "      <th>SmoothM</th>\n",
       "      <th>CompactM</th>\n",
       "      <th>ConcaveM</th>\n",
       "      <th>CPpointM</th>\n",
       "      <th>...</th>\n",
       "      <th>RadiusW</th>\n",
       "      <th>TextW</th>\n",
       "      <th>PeriW</th>\n",
       "      <th>AreaW</th>\n",
       "      <th>SmoothW</th>\n",
       "      <th>CompactW</th>\n",
       "      <th>ConcaveW</th>\n",
       "      <th>CPpointW</th>\n",
       "      <th>SymW</th>\n",
       "      <th>FracDimW</th>\n",
       "    </tr>\n",
       "  </thead>\n",
       "  <tbody>\n",
       "    <tr>\n",
       "      <th>0</th>\n",
       "      <td>842517</td>\n",
       "      <td>M</td>\n",
       "      <td>20.57</td>\n",
       "      <td>17.77</td>\n",
       "      <td>132.90</td>\n",
       "      <td>1326.0</td>\n",
       "      <td>0.08474</td>\n",
       "      <td>0.07864</td>\n",
       "      <td>0.0869</td>\n",
       "      <td>0.07017</td>\n",
       "      <td>...</td>\n",
       "      <td>24.99</td>\n",
       "      <td>23.41</td>\n",
       "      <td>158.80</td>\n",
       "      <td>1956.0</td>\n",
       "      <td>0.1238</td>\n",
       "      <td>0.1866</td>\n",
       "      <td>0.2416</td>\n",
       "      <td>0.1860</td>\n",
       "      <td>0.2750</td>\n",
       "      <td>0.08902</td>\n",
       "    </tr>\n",
       "    <tr>\n",
       "      <th>1</th>\n",
       "      <td>84300903</td>\n",
       "      <td>M</td>\n",
       "      <td>19.69</td>\n",
       "      <td>21.25</td>\n",
       "      <td>130.00</td>\n",
       "      <td>1203.0</td>\n",
       "      <td>0.10960</td>\n",
       "      <td>0.15990</td>\n",
       "      <td>0.1974</td>\n",
       "      <td>0.12790</td>\n",
       "      <td>...</td>\n",
       "      <td>23.57</td>\n",
       "      <td>25.53</td>\n",
       "      <td>152.50</td>\n",
       "      <td>1709.0</td>\n",
       "      <td>0.1444</td>\n",
       "      <td>0.4245</td>\n",
       "      <td>0.4504</td>\n",
       "      <td>0.2430</td>\n",
       "      <td>0.3613</td>\n",
       "      <td>0.08758</td>\n",
       "    </tr>\n",
       "    <tr>\n",
       "      <th>2</th>\n",
       "      <td>84348301</td>\n",
       "      <td>M</td>\n",
       "      <td>11.42</td>\n",
       "      <td>20.38</td>\n",
       "      <td>77.58</td>\n",
       "      <td>386.1</td>\n",
       "      <td>0.14250</td>\n",
       "      <td>0.28390</td>\n",
       "      <td>0.2414</td>\n",
       "      <td>0.10520</td>\n",
       "      <td>...</td>\n",
       "      <td>14.91</td>\n",
       "      <td>26.50</td>\n",
       "      <td>98.87</td>\n",
       "      <td>567.7</td>\n",
       "      <td>0.2098</td>\n",
       "      <td>0.8663</td>\n",
       "      <td>0.6869</td>\n",
       "      <td>0.2575</td>\n",
       "      <td>0.6638</td>\n",
       "      <td>0.17300</td>\n",
       "    </tr>\n",
       "    <tr>\n",
       "      <th>3</th>\n",
       "      <td>84358402</td>\n",
       "      <td>M</td>\n",
       "      <td>20.29</td>\n",
       "      <td>14.34</td>\n",
       "      <td>135.10</td>\n",
       "      <td>1297.0</td>\n",
       "      <td>0.10030</td>\n",
       "      <td>0.13280</td>\n",
       "      <td>0.1980</td>\n",
       "      <td>0.10430</td>\n",
       "      <td>...</td>\n",
       "      <td>22.54</td>\n",
       "      <td>16.67</td>\n",
       "      <td>152.20</td>\n",
       "      <td>1575.0</td>\n",
       "      <td>0.1374</td>\n",
       "      <td>0.2050</td>\n",
       "      <td>0.4000</td>\n",
       "      <td>0.1625</td>\n",
       "      <td>0.2364</td>\n",
       "      <td>0.07678</td>\n",
       "    </tr>\n",
       "    <tr>\n",
       "      <th>4</th>\n",
       "      <td>843786</td>\n",
       "      <td>M</td>\n",
       "      <td>12.45</td>\n",
       "      <td>15.70</td>\n",
       "      <td>82.57</td>\n",
       "      <td>477.1</td>\n",
       "      <td>0.12780</td>\n",
       "      <td>0.17000</td>\n",
       "      <td>0.1578</td>\n",
       "      <td>0.08089</td>\n",
       "      <td>...</td>\n",
       "      <td>15.47</td>\n",
       "      <td>23.75</td>\n",
       "      <td>103.40</td>\n",
       "      <td>741.6</td>\n",
       "      <td>0.1791</td>\n",
       "      <td>0.5249</td>\n",
       "      <td>0.5355</td>\n",
       "      <td>0.1741</td>\n",
       "      <td>0.3985</td>\n",
       "      <td>0.12440</td>\n",
       "    </tr>\n",
       "  </tbody>\n",
       "</table>\n",
       "<p>5 rows × 32 columns</p>\n",
       "</div>"
      ],
      "text/plain": [
       "         ID Diagnosis  RadiusM  TextM   PeriM   AreaM  SmoothM  CompactM  \\\n",
       "0    842517         M    20.57  17.77  132.90  1326.0  0.08474   0.07864   \n",
       "1  84300903         M    19.69  21.25  130.00  1203.0  0.10960   0.15990   \n",
       "2  84348301         M    11.42  20.38   77.58   386.1  0.14250   0.28390   \n",
       "3  84358402         M    20.29  14.34  135.10  1297.0  0.10030   0.13280   \n",
       "4    843786         M    12.45  15.70   82.57   477.1  0.12780   0.17000   \n",
       "\n",
       "   ConcaveM  CPpointM    ...     RadiusW  TextW   PeriW   AreaW  SmoothW  \\\n",
       "0    0.0869   0.07017    ...       24.99  23.41  158.80  1956.0   0.1238   \n",
       "1    0.1974   0.12790    ...       23.57  25.53  152.50  1709.0   0.1444   \n",
       "2    0.2414   0.10520    ...       14.91  26.50   98.87   567.7   0.2098   \n",
       "3    0.1980   0.10430    ...       22.54  16.67  152.20  1575.0   0.1374   \n",
       "4    0.1578   0.08089    ...       15.47  23.75  103.40   741.6   0.1791   \n",
       "\n",
       "   CompactW  ConcaveW  CPpointW    SymW  FracDimW  \n",
       "0    0.1866    0.2416    0.1860  0.2750   0.08902  \n",
       "1    0.4245    0.4504    0.2430  0.3613   0.08758  \n",
       "2    0.8663    0.6869    0.2575  0.6638   0.17300  \n",
       "3    0.2050    0.4000    0.1625  0.2364   0.07678  \n",
       "4    0.5249    0.5355    0.1741  0.3985   0.12440  \n",
       "\n",
       "[5 rows x 32 columns]"
      ]
     },
     "execution_count": 5,
     "metadata": {},
     "output_type": "execute_result"
    }
   ],
   "source": [
    "#checking again if columns name has been changed\n",
    "cancer_df.head()"
   ]
  },
  {
   "cell_type": "code",
   "execution_count": 6,
   "metadata": {},
   "outputs": [
    {
     "data": {
      "text/plain": [
       "False"
      ]
     },
     "execution_count": 6,
     "metadata": {},
     "output_type": "execute_result"
    }
   ],
   "source": [
    "cancer_df.isnull().values.any()#checking if there is any missing value in the data set"
   ]
  },
  {
   "cell_type": "code",
   "execution_count": 7,
   "metadata": {},
   "outputs": [
    {
     "name": "stdout",
     "output_type": "stream",
     "text": [
      "(568, 32)\n",
      "ID             int64\n",
      "Diagnosis     object\n",
      "RadiusM      float64\n",
      "TextM        float64\n",
      "PeriM        float64\n",
      "AreaM        float64\n",
      "SmoothM      float64\n",
      "CompactM     float64\n",
      "ConcaveM     float64\n",
      "CPpointM     float64\n",
      "SymM         float64\n",
      "FracDimM     float64\n",
      "RadiusSE     float64\n",
      "TextSE       float64\n",
      "PeriSE       float64\n",
      "AreaSE       float64\n",
      "SmoothSE     float64\n",
      "CompactSE    float64\n",
      "ConcaveSE    float64\n",
      "CPpointSE    float64\n",
      "SymSE        float64\n",
      "FracDimSE    float64\n",
      "RadiusW      float64\n",
      "TextW        float64\n",
      "PeriW        float64\n",
      "AreaW        float64\n",
      "SmoothW      float64\n",
      "CompactW     float64\n",
      "ConcaveW     float64\n",
      "CPpointW     float64\n",
      "SymW         float64\n",
      "FracDimW     float64\n",
      "dtype: object\n"
     ]
    }
   ],
   "source": [
    "print(cancer_df.shape)\n",
    "print(cancer_df.dtypes)"
   ]
  },
  {
   "cell_type": "code",
   "execution_count": 8,
   "metadata": {},
   "outputs": [],
   "source": [
    "cancer_df.drop('ID', axis=1, inplace=True) #removing the first column \"ID\" which is not useful for the prediction"
   ]
  },
  {
   "cell_type": "code",
   "execution_count": 9,
   "metadata": {},
   "outputs": [
    {
     "data": {
      "text/plain": [
       "B    357\n",
       "M    211\n",
       "Name: Diagnosis, dtype: int64"
      ]
     },
     "execution_count": 9,
     "metadata": {},
     "output_type": "execute_result"
    }
   ],
   "source": [
    "cancer_df.loc[:, 'Diagnosis'].value_counts()# checking the total values for the two types of cancer"
   ]
  },
  {
   "cell_type": "code",
   "execution_count": 10,
   "metadata": {},
   "outputs": [
    {
     "data": {
      "text/plain": [
       "<matplotlib.axes._subplots.AxesSubplot at 0x1f84c3720f0>"
      ]
     },
     "execution_count": 10,
     "metadata": {},
     "output_type": "execute_result"
    },
    {
     "data": {
      "image/png": "[encoded data removed]",
      "text/plain": [
       "<Figure size 432x288 with 1 Axes>"
      ]
     },
     "metadata": {},
     "output_type": "display_data"
    }
   ],
   "source": [
    "cancer_df['Diagnosis'].value_counts().sort_values().plot.bar()"
   ]
  },
  {
   "cell_type": "code",
   "execution_count": 11,
   "metadata": {},
   "outputs": [],
   "source": [
    "from sklearn.preprocessing import LabelEncoder\n",
    "labelencoder = LabelEncoder()\n",
    "cancer_df.loc[:, \"Diagnosis\"] = labelencoder.fit_transform(cancer_df.loc[:, \"Diagnosis\"])"
   ]
  },
  {
   "cell_type": "code",
   "execution_count": 12,
   "metadata": {},
   "outputs": [
    {
     "data": {
      "text/plain": [
       "Index(['Diagnosis', 'RadiusM', 'TextM', 'PeriM', 'AreaM', 'SmoothM',\n",
       "       'CompactM', 'ConcaveM', 'CPpointM', 'SymM', 'FracDimM', 'RadiusSE',\n",
       "       'TextSE', 'PeriSE', 'AreaSE', 'SmoothSE', 'CompactSE', 'ConcaveSE',\n",
       "       'CPpointSE', 'SymSE', 'FracDimSE', 'RadiusW', 'TextW', 'PeriW', 'AreaW',\n",
       "       'SmoothW', 'CompactW', 'ConcaveW', 'CPpointW', 'SymW', 'FracDimW'],\n",
       "      dtype='object')"
      ]
     },
     "execution_count": 12,
     "metadata": {},
     "output_type": "execute_result"
    }
   ],
   "source": [
    "cancer_df.columns"
   ]
  },
  {
   "cell_type": "markdown",
   "metadata": {},
   "source": [
    "##  Data scaling and train-test split"
   ]
  },
  {
   "cell_type": "code",
   "execution_count": 13,
   "metadata": {},
   "outputs": [],
   "source": [
    "X = cancer_df.drop('Diagnosis', axis =1)"
   ]
  },
  {
   "cell_type": "code",
   "execution_count": 14,
   "metadata": {},
   "outputs": [],
   "source": [
    "y = cancer_df['Diagnosis']"
   ]
  },
  {
   "cell_type": "code",
   "execution_count": 15,
   "metadata": {},
   "outputs": [],
   "source": [
    "from sklearn.preprocessing import StandardScaler\n",
    "sc = StandardScaler()\n",
    "#X_scale = sc.fit_transform(X)\n",
    "def scale(col):\n",
    "    mean_col = np.mean(col)\n",
    "    sd_col = np.std(col)\n",
    "    std = (col - mean_col) / sd_col\n",
    "    return std\n",
    "X_scale = scale(X)"
   ]
  },
  {
   "cell_type": "code",
   "execution_count": 16,
   "metadata": {},
   "outputs": [],
   "source": [
    "from sklearn.model_selection import train_test_split\n",
    "X_train, X_test, y_train, y_test = train_test_split(X_scale,y, test_size=.3,random_state=42)\n"
   ]
  },
  {
   "cell_type": "markdown",
   "metadata": {},
   "source": [
    "## Logistic Regression with LASSO\n",
    "### Lambda = 0.01"
   ]
  },
  {
   "cell_type": "code",
   "execution_count": 17,
   "metadata": {},
   "outputs": [
    {
     "name": "stdout",
     "output_type": "stream",
     "text": [
      "Index(['RadiusM', 'TextM', 'PeriM', 'AreaM', 'SmoothM', 'CompactM', 'ConcaveM',\n",
      "       'CPpointM', 'SymM', 'FracDimM', 'RadiusSE', 'TextSE', 'PeriSE',\n",
      "       'AreaSE', 'SmoothSE', 'CompactSE', 'ConcaveSE', 'CPpointSE', 'SymSE',\n",
      "       'FracDimSE', 'RadiusW', 'TextW', 'PeriW', 'AreaW', 'SmoothW',\n",
      "       'CompactW', 'ConcaveW', 'CPpointW', 'SymW', 'FracDimW'],\n",
      "      dtype='object')\n",
      "[[0.         0.         0.         0.         0.         0.\n",
      "  0.         0.         0.         0.         0.         0.\n",
      "  0.         0.         0.         0.         0.         0.\n",
      "  0.         0.         0.09677117 0.         0.18069157 0.\n",
      "  0.         0.         0.         0.33776935 0.         0.        ]]\n",
      "[-0.59831891]\n",
      "Accuracy of logistic regression classifier on test set: 0.82\n",
      "[[103   0]\n",
      " [ 31  37]]\n",
      "             precision    recall  f1-score   support\n",
      "\n",
      "          0       0.77      1.00      0.87       103\n",
      "          1       1.00      0.54      0.70        68\n",
      "\n",
      "avg / total       0.86      0.82      0.80       171\n",
      "\n"
     ]
    }
   ],
   "source": [
    "print(X_test.columns)\n",
    "from sklearn.linear_model import LogisticRegression\n",
    "clf_a = LogisticRegression(C=0.01, penalty='l1', tol=0.01, solver='saga')#lambda = 0.01\n",
    "clf_a.fit(X_train, y_train)\n",
    "print(clf_a.coef_)\n",
    "print(clf_a.intercept_)\n",
    "y_pred_a = clf_a.predict(X_test)\n",
    "print('Accuracy of logistic regression classifier on test set: {:.2f}'.format(clf_a.score(X_test, y_test)))\n",
    "confusion_matrix_a = confusion_matrix(y_test, y_pred_a)\n",
    "print(confusion_matrix_a)\n",
    "from sklearn.metrics import classification_report\n",
    "print(classification_report(y_test, y_pred_a))\n"
   ]
  },
  {
   "cell_type": "markdown",
   "metadata": {},
   "source": [
    "## Logistic regression with lambda 0.5"
   ]
  },
  {
   "cell_type": "code",
   "execution_count": 18,
   "metadata": {},
   "outputs": [
    {
     "name": "stdout",
     "output_type": "stream",
     "text": [
      "Index(['RadiusM', 'TextM', 'PeriM', 'AreaM', 'SmoothM', 'CompactM', 'ConcaveM',\n",
      "       'CPpointM', 'SymM', 'FracDimM', 'RadiusSE', 'TextSE', 'PeriSE',\n",
      "       'AreaSE', 'SmoothSE', 'CompactSE', 'ConcaveSE', 'CPpointSE', 'SymSE',\n",
      "       'FracDimSE', 'RadiusW', 'TextW', 'PeriW', 'AreaW', 'SmoothW',\n",
      "       'CompactW', 'ConcaveW', 'CPpointW', 'SymW', 'FracDimW'],\n",
      "      dtype='object')\n",
      "[[ 0.50763507  0.4156369   0.48484159  0.51209465  0.09347955  0.\n",
      "   0.31175392  0.51359099  0.         -0.25499118  0.64280012  0.\n",
      "   0.3994309   0.4786748   0.         -0.17353238  0.          0.\n",
      "  -0.05949915 -0.20137674  0.76519398  0.85171792  0.68194885  0.70661288\n",
      "   0.840083    0.          0.47905386  0.63586837  0.48713623  0.        ]]\n",
      "[-0.45016734]\n",
      "Accuracy of logistic regression classifier on test set: 0.98\n",
      "[[102   1]\n",
      " [  3  65]]\n",
      "             precision    recall  f1-score   support\n",
      "\n",
      "          0       0.97      0.99      0.98       103\n",
      "          1       0.98      0.96      0.97        68\n",
      "\n",
      "avg / total       0.98      0.98      0.98       171\n",
      "\n"
     ]
    }
   ],
   "source": [
    "print(X_test.columns)\n",
    "from sklearn.linear_model import LogisticRegression\n",
    "clf_b = LogisticRegression(C=0.5, penalty='l1', tol=0.01, solver='saga')#lambda = 0.5\n",
    "clf_b.fit(X_train, y_train)\n",
    "print(clf_b.coef_)\n",
    "print(clf_b.intercept_)\n",
    "y_pred_b = clf_b.predict(X_test)\n",
    "print('Accuracy of logistic regression classifier on test set: {:.2f}'.format(clf_b.score(X_test, y_test)))\n",
    "confusion_matrix_b = confusion_matrix(y_test, y_pred_b)\n",
    "print(confusion_matrix_b)\n",
    "print(classification_report(y_test, y_pred_b))"
   ]
  },
  {
   "cell_type": "markdown",
   "metadata": {},
   "source": [
    "### Performance matrics for different thresholds using lasso-logistic-regression model with lambda = 0.5"
   ]
  },
  {
   "cell_type": "markdown",
   "metadata": {},
   "source": [
    "### if threshold = 0.3"
   ]
  },
  {
   "cell_type": "code",
   "execution_count": 19,
   "metadata": {},
   "outputs": [
    {
     "name": "stdout",
     "output_type": "stream",
     "text": [
      "0.958523700742433\n",
      "             precision    recall  f1-score   support\n",
      "\n",
      "          0       0.97      0.96      0.97       103\n",
      "          1       0.94      0.96      0.95        68\n",
      "\n",
      "avg / total       0.96      0.96      0.96       171\n",
      "\n"
     ]
    },
    {
     "data": {
      "image/png": "[encoded data removed]",
      "text/plain": [
       "<Figure size 432x288 with 1 Axes>"
      ]
     },
     "metadata": {},
     "output_type": "display_data"
    },
    {
     "name": "stdout",
     "output_type": "stream",
     "text": [
      "[[99  4]\n",
      " [ 3 65]]\n"
     ]
    }
   ],
   "source": [
    "from sklearn.metrics import roc_auc_score\n",
    "from sklearn.metrics import roc_curve\n",
    "from sklearn.metrics import confusion_matrix\n",
    "y_score = (clf_b.predict_proba(X_test)[:,1]>= 0.3).astype(bool)\n",
    "roc_auc_score = roc_auc_score(y_test, y_score)\n",
    "print (roc_auc_score)\n",
    "fpr, tpr, thresholds = roc_curve(y_test, y_score)\n",
    "print(classification_report(y_test, y_score))\n",
    "plt.figure()\n",
    "plt.plot(fpr, tpr, label='Logistic Regression (area = %0.2f)' % roc_auc_score)\n",
    "plt.plot([0, 1], [0, 1],'r--')\n",
    "plt.xlim([0.0, 1.0])\n",
    "plt.ylim([0.0, 1.05])\n",
    "plt.xlabel('False Positive Rate')\n",
    "plt.ylabel('True Positive Rate')\n",
    "plt.title('Receiver operating characteristic')\n",
    "plt.legend(loc=\"lower right\")\n",
    "plt.show()\n",
    "print(confusion_matrix(y_test,y_score))"
   ]
  },
  {
   "cell_type": "code",
   "execution_count": 22,
   "metadata": {},
   "outputs": [
    {
     "name": "stdout",
     "output_type": "stream",
     "text": [
      "Cost for misclassifing cancer :340000\n"
     ]
    }
   ],
   "source": [
    "## false negative cost 100,000 and false positive cost 10,000\n",
    "cost = (3*100000)+(4*10000)# from confusion matrix 3 cases are FN and 4 cases are FP\n",
    "print('Cost for misclassifing cancer :' + str(cost))"
   ]
  },
  {
   "cell_type": "markdown",
   "metadata": {},
   "source": [
    "## if threshold is 0.5"
   ]
  },
  {
   "cell_type": "code",
   "execution_count": 23,
   "metadata": {},
   "outputs": [
    {
     "name": "stdout",
     "output_type": "stream",
     "text": [
      "0.9730868075385495\n",
      "             precision    recall  f1-score   support\n",
      "\n",
      "          0       0.97      0.99      0.98       103\n",
      "          1       0.98      0.96      0.97        68\n",
      "\n",
      "avg / total       0.98      0.98      0.98       171\n",
      "\n"
     ]
    },
    {
     "data": {
      "image/png": "[encoded data removed]",
      "text/plain": [
       "<Figure size 432x288 with 1 Axes>"
      ]
     },
     "metadata": {},
     "output_type": "display_data"
    },
    {
     "name": "stdout",
     "output_type": "stream",
     "text": [
      "[[102   1]\n",
      " [  3  65]]\n"
     ]
    }
   ],
   "source": [
    "from sklearn.metrics import roc_auc_score\n",
    "from sklearn.metrics import roc_curve\n",
    "from sklearn.metrics import confusion_matrix\n",
    "y_score = (clf_b.predict_proba(X_test)[:,1]>= 0.5).astype(bool)\n",
    "roc_auc_score = roc_auc_score(y_test, y_score)\n",
    "print (roc_auc_score)\n",
    "fpr, tpr, thresholds = roc_curve(y_test, y_score)\n",
    "print(classification_report(y_test, y_score))\n",
    "plt.figure()\n",
    "plt.plot(fpr, tpr, label='Logistic Regression (area = %0.2f)' % roc_auc_score)\n",
    "plt.plot([0, 1], [0, 1],'r--')\n",
    "plt.xlim([0.0, 1.0])\n",
    "plt.ylim([0.0, 1.05])\n",
    "plt.xlabel('False Positive Rate')\n",
    "plt.ylabel('True Positive Rate')\n",
    "plt.title('Receiver operating characteristic')\n",
    "plt.legend(loc=\"lower right\")\n",
    "plt.show()\n",
    "print(confusion_matrix(y_test,y_score))"
   ]
  },
  {
   "cell_type": "code",
   "execution_count": 24,
   "metadata": {},
   "outputs": [
    {
     "name": "stdout",
     "output_type": "stream",
     "text": [
      "Cost for misclassifing cancer :310000\n"
     ]
    }
   ],
   "source": [
    "#false negative cost 100,000 and false positive cost 10,000\n",
    "cost = (3*100000)+(1*10000)# from confusion matrix 3 cases are FN and 1 cases are FP\n",
    "print('Cost for misclassifing cancer :' + str(cost))"
   ]
  },
  {
   "cell_type": "markdown",
   "metadata": {},
   "source": [
    "## if threshold is 0.7"
   ]
  },
  {
   "cell_type": "code",
   "execution_count": 25,
   "metadata": {},
   "outputs": [
    {
     "name": "stdout",
     "output_type": "stream",
     "text": [
      "0.9558823529411764\n",
      "             precision    recall  f1-score   support\n",
      "\n",
      "          0       0.94      1.00      0.97       103\n",
      "          1       1.00      0.91      0.95        68\n",
      "\n",
      "avg / total       0.97      0.96      0.96       171\n",
      "\n"
     ]
    },
    {
     "data": {
      "image/png": "[encoded data removed]",
      "text/plain": [
       "<Figure size 432x288 with 1 Axes>"
      ]
     },
     "metadata": {},
     "output_type": "display_data"
    },
    {
     "name": "stdout",
     "output_type": "stream",
     "text": [
      "[[103   0]\n",
      " [  6  62]]\n"
     ]
    }
   ],
   "source": [
    "from sklearn.metrics import roc_auc_score\n",
    "from sklearn.metrics import roc_curve\n",
    "from sklearn.metrics import confusion_matrix\n",
    "y_score = (clf_b.predict_proba(X_test)[:,1]>= 0.7).astype(bool)\n",
    "roc_auc_score = roc_auc_score(y_test, y_score)\n",
    "print (roc_auc_score)\n",
    "fpr, tpr, thresholds = roc_curve(y_test, y_score)\n",
    "print(classification_report(y_test, y_score))\n",
    "plt.figure()\n",
    "plt.plot(fpr, tpr, label='Logistic Regression (area = %0.2f)' % roc_auc_score)\n",
    "plt.plot([0, 1], [0, 1],'r--')\n",
    "plt.xlim([0.0, 1.0])\n",
    "plt.ylim([0.0, 1.05])\n",
    "plt.xlabel('False Positive Rate')\n",
    "plt.ylabel('True Positive Rate')\n",
    "plt.title('Receiver operating characteristic')\n",
    "plt.legend(loc=\"lower right\")\n",
    "plt.show()\n",
    "print(confusion_matrix(y_test,y_score))"
   ]
  },
  {
   "cell_type": "code",
   "execution_count": 26,
   "metadata": {},
   "outputs": [
    {
     "name": "stdout",
     "output_type": "stream",
     "text": [
      "Cost for misclassifing cancer :600000\n"
     ]
    }
   ],
   "source": [
    "## false negative cost 100,000 and false positive cost 10,000\n",
    "cost = (6*100000)+(0*10000)# from confusion matrix 6 cases are FN and 0 cases are FP\n",
    "print('Cost for misclassifing cancer :' + str(cost))"
   ]
  }
 ],
 "metadata": {
  "kernelspec": {
   "display_name": "Python 3",
   "language": "python",
   "name": "python3"
  },
  "language_info": {
   "codemirror_mode": {
    "name": "ipython",
    "version": 3
   },
   "file_extension": ".py",
   "mimetype": "text/x-python",
   "name": "python",
   "nbconvert_exporter": "python",
   "pygments_lexer": "ipython3",
   "version": "3.6.5"
  }
 },
 "nbformat": 4,
 "nbformat_minor": 2
}
