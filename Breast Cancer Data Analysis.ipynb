{
 "cells": [
  {
   "cell_type": "markdown",
   "metadata": {},
   "source": [
    "\n",
    "### Author - Anjali Aggarwal"
   ]
  },
  {
   "cell_type": "markdown",
   "metadata": {},
   "source": [
    "#             \"Breast cancer diagnosis using cell nucleus characterstics\""
   ]
  },
  {
   "cell_type": "markdown",
   "metadata": {},
   "source": [
    "# Abstract\n",
    "\n",
    "In the present study, a linear model is generated to predict the type of the breast cancer - benign or malignant by using wisconsin diagnostic breast cancer data-set available at the UCI machine learning repository. This is a classification problem.This data has been obtained from the digital images of the cancer cell nucleus. The original data-set contain one target-label(\"Diagnosis\") and 30 other cell nucleus features. Out of the 30 features, one feature was \"id\" of the image which was removed from the dataframe. There is not any missing value in the data and all the features values are numeric except \"Diagnosis\" feature which was convert to numeric ( 1 is for benign and 2 is for malignant). Data was loaded into the python panda dataframe and python pakages were imported. First, distribution of all the features were checked by the histogram and also distribution of data with repect to diagnosis was visualized by violin plots and box plots with the scaled features. In order to remove the collineality among the features, correlation cofficents were calculated and heat maps were also plotted. Some highly correlated features (10 features out of 30 features) were removed from the data frame and a linear regression was performed with the remaining 20 featuers. To further model improvment and for dimension reduction, principal component analysis (PCA) was performed. Three pricipal components were selected with higher variance. Further, a principal component regression was obtained with these three principal components. However, PCA did not improve the accuracy of the model."
   ]
  },
  {
   "cell_type": "markdown",
   "metadata": {},
   "source": [
    "# Introduction and problem\n",
    "\n",
    "Breast cancer is very common cancer among the women and there are fairly good chances to completely cure the cancer if it can be detected early. There are two type of cancer - benign and malignant. Benign does not invade nearby tissues or spread to other part of the body, however, melignant can spread to other part or organ of the body. Outlook of the melignant cancer is very low, therfore it is nessassary to detect type of the cancer on the early stage (source: wikipedia).\n",
    "\n",
    "A good machine-learning model can accureately predict the type of breast cancer.I have tried to make a linear regression model by using cancer cell nucleus features. Data for the present study was obtained from the UCI machine learning repository. Data-set contain 31 features including diagnosis features which is only categorical feature in which \"B\" is represent for benign and \"M\" is represent for malignant. Other nucleus features were calculated from a digitized image of a fine needle aspirate of a breast mass. There are ten nuclear features and for each feature, higher values are typically associated with the malignancy. Nuclear size is expressed by the radius and area features. Nuclear shape is expressed by smoothness, concavity, compactness, concave points, symmetry and fractal dimension features. Both size and shape are expressed by the perimeter feature. Nuclear texture is measured by finding the variance of the grey scale intensities in the component pixels. The mean value, Worst (mean of the three largest value) and the standard error of the each feature were computed for each image, resulting in a total of thirty features. "
   ]
  },
  {
   "cell_type": "code",
   "execution_count": 1,
   "metadata": {},
   "outputs": [],
   "source": [
    "#import python libraries\n",
    "import numpy as np\n",
    "import pandas as pd\n",
    "import matplotlib.pyplot as plt\n",
    "%matplotlib inline\n",
    "from matplotlib import pyplot\n",
    "import seaborn as sns\n",
    "from sklearn.metrics import confusion_matrix, classification_report\n",
    "from sklearn.decomposition import PCA"
   ]
  },
  {
   "cell_type": "code",
   "execution_count": 2,
   "metadata": {},
   "outputs": [],
   "source": [
    "# loading the data in panda dataframe\n",
    "filename = \"http://mlr.cs.umass.edu/ml/machine-learning-databases/breast-cancer-wisconsin/wdbc.data\"\n",
    "cancer_df = pd.read_csv(filename)"
   ]
  },
  {
   "cell_type": "code",
   "execution_count": 3,
   "metadata": {},
   "outputs": [
    {
     "data": {
      "text/html": [
       "<div>\n",
       "<style scoped>\n",
       "    .dataframe tbody tr th:only-of-type {\n",
       "        vertical-align: middle;\n",
       "    }\n",
       "\n",
       "    .dataframe tbody tr th {\n",
       "        vertical-align: top;\n",
       "    }\n",
       "\n",
       "    .dataframe thead th {\n",
       "        text-align: right;\n",
       "    }\n",
       "</style>\n",
       "<table border=\"1\" class=\"dataframe\">\n",
       "  <thead>\n",
       "    <tr style=\"text-align: right;\">\n",
       "      <th></th>\n",
       "      <th>842302</th>\n",
       "      <th>M</th>\n",
       "      <th>17.99</th>\n",
       "      <th>10.38</th>\n",
       "      <th>122.8</th>\n",
       "      <th>1001</th>\n",
       "      <th>0.1184</th>\n",
       "      <th>0.2776</th>\n",
       "      <th>0.3001</th>\n",
       "      <th>0.1471</th>\n",
       "      <th>...</th>\n",
       "      <th>25.38</th>\n",
       "      <th>17.33</th>\n",
       "      <th>184.6</th>\n",
       "      <th>2019</th>\n",
       "      <th>0.1622</th>\n",
       "      <th>0.6656</th>\n",
       "      <th>0.7119</th>\n",
       "      <th>0.2654</th>\n",
       "      <th>0.4601</th>\n",
       "      <th>0.1189</th>\n",
       "    </tr>\n",
       "  </thead>\n",
       "  <tbody>\n",
       "    <tr>\n",
       "      <th>0</th>\n",
       "      <td>842517</td>\n",
       "      <td>M</td>\n",
       "      <td>20.57</td>\n",
       "      <td>17.77</td>\n",
       "      <td>132.90</td>\n",
       "      <td>1326.0</td>\n",
       "      <td>0.08474</td>\n",
       "      <td>0.07864</td>\n",
       "      <td>0.0869</td>\n",
       "      <td>0.07017</td>\n",
       "      <td>...</td>\n",
       "      <td>24.99</td>\n",
       "      <td>23.41</td>\n",
       "      <td>158.80</td>\n",
       "      <td>1956.0</td>\n",
       "      <td>0.1238</td>\n",
       "      <td>0.1866</td>\n",
       "      <td>0.2416</td>\n",
       "      <td>0.1860</td>\n",
       "      <td>0.2750</td>\n",
       "      <td>0.08902</td>\n",
       "    </tr>\n",
       "    <tr>\n",
       "      <th>1</th>\n",
       "      <td>84300903</td>\n",
       "      <td>M</td>\n",
       "      <td>19.69</td>\n",
       "      <td>21.25</td>\n",
       "      <td>130.00</td>\n",
       "      <td>1203.0</td>\n",
       "      <td>0.10960</td>\n",
       "      <td>0.15990</td>\n",
       "      <td>0.1974</td>\n",
       "      <td>0.12790</td>\n",
       "      <td>...</td>\n",
       "      <td>23.57</td>\n",
       "      <td>25.53</td>\n",
       "      <td>152.50</td>\n",
       "      <td>1709.0</td>\n",
       "      <td>0.1444</td>\n",
       "      <td>0.4245</td>\n",
       "      <td>0.4504</td>\n",
       "      <td>0.2430</td>\n",
       "      <td>0.3613</td>\n",
       "      <td>0.08758</td>\n",
       "    </tr>\n",
       "    <tr>\n",
       "      <th>2</th>\n",
       "      <td>84348301</td>\n",
       "      <td>M</td>\n",
       "      <td>11.42</td>\n",
       "      <td>20.38</td>\n",
       "      <td>77.58</td>\n",
       "      <td>386.1</td>\n",
       "      <td>0.14250</td>\n",
       "      <td>0.28390</td>\n",
       "      <td>0.2414</td>\n",
       "      <td>0.10520</td>\n",
       "      <td>...</td>\n",
       "      <td>14.91</td>\n",
       "      <td>26.50</td>\n",
       "      <td>98.87</td>\n",
       "      <td>567.7</td>\n",
       "      <td>0.2098</td>\n",
       "      <td>0.8663</td>\n",
       "      <td>0.6869</td>\n",
       "      <td>0.2575</td>\n",
       "      <td>0.6638</td>\n",
       "      <td>0.17300</td>\n",
       "    </tr>\n",
       "    <tr>\n",
       "      <th>3</th>\n",
       "      <td>84358402</td>\n",
       "      <td>M</td>\n",
       "      <td>20.29</td>\n",
       "      <td>14.34</td>\n",
       "      <td>135.10</td>\n",
       "      <td>1297.0</td>\n",
       "      <td>0.10030</td>\n",
       "      <td>0.13280</td>\n",
       "      <td>0.1980</td>\n",
       "      <td>0.10430</td>\n",
       "      <td>...</td>\n",
       "      <td>22.54</td>\n",
       "      <td>16.67</td>\n",
       "      <td>152.20</td>\n",
       "      <td>1575.0</td>\n",
       "      <td>0.1374</td>\n",
       "      <td>0.2050</td>\n",
       "      <td>0.4000</td>\n",
       "      <td>0.1625</td>\n",
       "      <td>0.2364</td>\n",
       "      <td>0.07678</td>\n",
       "    </tr>\n",
       "    <tr>\n",
       "      <th>4</th>\n",
       "      <td>843786</td>\n",
       "      <td>M</td>\n",
       "      <td>12.45</td>\n",
       "      <td>15.70</td>\n",
       "      <td>82.57</td>\n",
       "      <td>477.1</td>\n",
       "      <td>0.12780</td>\n",
       "      <td>0.17000</td>\n",
       "      <td>0.1578</td>\n",
       "      <td>0.08089</td>\n",
       "      <td>...</td>\n",
       "      <td>15.47</td>\n",
       "      <td>23.75</td>\n",
       "      <td>103.40</td>\n",
       "      <td>741.6</td>\n",
       "      <td>0.1791</td>\n",
       "      <td>0.5249</td>\n",
       "      <td>0.5355</td>\n",
       "      <td>0.1741</td>\n",
       "      <td>0.3985</td>\n",
       "      <td>0.12440</td>\n",
       "    </tr>\n",
       "  </tbody>\n",
       "</table>\n",
       "<p>5 rows × 32 columns</p>\n",
       "</div>"
      ],
      "text/plain": [
       "     842302  M  17.99  10.38   122.8    1001   0.1184   0.2776  0.3001  \\\n",
       "0    842517  M  20.57  17.77  132.90  1326.0  0.08474  0.07864  0.0869   \n",
       "1  84300903  M  19.69  21.25  130.00  1203.0  0.10960  0.15990  0.1974   \n",
       "2  84348301  M  11.42  20.38   77.58   386.1  0.14250  0.28390  0.2414   \n",
       "3  84358402  M  20.29  14.34  135.10  1297.0  0.10030  0.13280  0.1980   \n",
       "4    843786  M  12.45  15.70   82.57   477.1  0.12780  0.17000  0.1578   \n",
       "\n",
       "    0.1471   ...     25.38  17.33   184.6    2019  0.1622  0.6656  0.7119  \\\n",
       "0  0.07017   ...     24.99  23.41  158.80  1956.0  0.1238  0.1866  0.2416   \n",
       "1  0.12790   ...     23.57  25.53  152.50  1709.0  0.1444  0.4245  0.4504   \n",
       "2  0.10520   ...     14.91  26.50   98.87   567.7  0.2098  0.8663  0.6869   \n",
       "3  0.10430   ...     22.54  16.67  152.20  1575.0  0.1374  0.2050  0.4000   \n",
       "4  0.08089   ...     15.47  23.75  103.40   741.6  0.1791  0.5249  0.5355   \n",
       "\n",
       "   0.2654  0.4601   0.1189  \n",
       "0  0.1860  0.2750  0.08902  \n",
       "1  0.2430  0.3613  0.08758  \n",
       "2  0.2575  0.6638  0.17300  \n",
       "3  0.1625  0.2364  0.07678  \n",
       "4  0.1741  0.3985  0.12440  \n",
       "\n",
       "[5 rows x 32 columns]"
      ]
     },
     "execution_count": 3,
     "metadata": {},
     "output_type": "execute_result"
    }
   ],
   "source": [
    "#checking first 5 rows of the data\n",
    "cancer_df.head()"
   ]
  },
  {
   "cell_type": "code",
   "execution_count": 4,
   "metadata": {},
   "outputs": [],
   "source": [
    "# changing the features name according to information provided by the dataset at UCI repositiory\n",
    "cancer_df.columns = ['ID', 'Diagnosis','RadiusM', 'TextM', 'PeriM', 'AreaM', 'SmoothM', 'CompactM', 'ConcaveM', 'CPpointM', 'SymM', 'FracDimM','RadiusSE', 'TextSE', 'PeriSE', 'AreaSE', 'SmoothSE', 'CompactSE', 'ConcaveSE', 'CPpointSE', 'SymSE', 'FracDimSE', 'RadiusW', 'TextW', 'PeriW', 'AreaW', 'SmoothW', 'CompactW', 'ConcaveW', 'CPpointW', 'SymW', 'FracDimW']"
   ]
  },
  {
   "cell_type": "code",
   "execution_count": 5,
   "metadata": {},
   "outputs": [
    {
     "data": {
      "text/html": [
       "<div>\n",
       "<style scoped>\n",
       "    .dataframe tbody tr th:only-of-type {\n",
       "        vertical-align: middle;\n",
       "    }\n",
       "\n",
       "    .dataframe tbody tr th {\n",
       "        vertical-align: top;\n",
       "    }\n",
       "\n",
       "    .dataframe thead th {\n",
       "        text-align: right;\n",
       "    }\n",
       "</style>\n",
       "<table border=\"1\" class=\"dataframe\">\n",
       "  <thead>\n",
       "    <tr style=\"text-align: right;\">\n",
       "      <th></th>\n",
       "      <th>ID</th>\n",
       "      <th>Diagnosis</th>\n",
       "      <th>RadiusM</th>\n",
       "      <th>TextM</th>\n",
       "      <th>PeriM</th>\n",
       "      <th>AreaM</th>\n",
       "      <th>SmoothM</th>\n",
       "      <th>CompactM</th>\n",
       "      <th>ConcaveM</th>\n",
       "      <th>CPpointM</th>\n",
       "      <th>...</th>\n",
       "      <th>RadiusW</th>\n",
       "      <th>TextW</th>\n",
       "      <th>PeriW</th>\n",
       "      <th>AreaW</th>\n",
       "      <th>SmoothW</th>\n",
       "      <th>CompactW</th>\n",
       "      <th>ConcaveW</th>\n",
       "      <th>CPpointW</th>\n",
       "      <th>SymW</th>\n",
       "      <th>FracDimW</th>\n",
       "    </tr>\n",
       "  </thead>\n",
       "  <tbody>\n",
       "    <tr>\n",
       "      <th>0</th>\n",
       "      <td>842517</td>\n",
       "      <td>M</td>\n",
       "      <td>20.57</td>\n",
       "      <td>17.77</td>\n",
       "      <td>132.90</td>\n",
       "      <td>1326.0</td>\n",
       "      <td>0.08474</td>\n",
       "      <td>0.07864</td>\n",
       "      <td>0.0869</td>\n",
       "      <td>0.07017</td>\n",
       "      <td>...</td>\n",
       "      <td>24.99</td>\n",
       "      <td>23.41</td>\n",
       "      <td>158.80</td>\n",
       "      <td>1956.0</td>\n",
       "      <td>0.1238</td>\n",
       "      <td>0.1866</td>\n",
       "      <td>0.2416</td>\n",
       "      <td>0.1860</td>\n",
       "      <td>0.2750</td>\n",
       "      <td>0.08902</td>\n",
       "    </tr>\n",
       "    <tr>\n",
       "      <th>1</th>\n",
       "      <td>84300903</td>\n",
       "      <td>M</td>\n",
       "      <td>19.69</td>\n",
       "      <td>21.25</td>\n",
       "      <td>130.00</td>\n",
       "      <td>1203.0</td>\n",
       "      <td>0.10960</td>\n",
       "      <td>0.15990</td>\n",
       "      <td>0.1974</td>\n",
       "      <td>0.12790</td>\n",
       "      <td>...</td>\n",
       "      <td>23.57</td>\n",
       "      <td>25.53</td>\n",
       "      <td>152.50</td>\n",
       "      <td>1709.0</td>\n",
       "      <td>0.1444</td>\n",
       "      <td>0.4245</td>\n",
       "      <td>0.4504</td>\n",
       "      <td>0.2430</td>\n",
       "      <td>0.3613</td>\n",
       "      <td>0.08758</td>\n",
       "    </tr>\n",
       "    <tr>\n",
       "      <th>2</th>\n",
       "      <td>84348301</td>\n",
       "      <td>M</td>\n",
       "      <td>11.42</td>\n",
       "      <td>20.38</td>\n",
       "      <td>77.58</td>\n",
       "      <td>386.1</td>\n",
       "      <td>0.14250</td>\n",
       "      <td>0.28390</td>\n",
       "      <td>0.2414</td>\n",
       "      <td>0.10520</td>\n",
       "      <td>...</td>\n",
       "      <td>14.91</td>\n",
       "      <td>26.50</td>\n",
       "      <td>98.87</td>\n",
       "      <td>567.7</td>\n",
       "      <td>0.2098</td>\n",
       "      <td>0.8663</td>\n",
       "      <td>0.6869</td>\n",
       "      <td>0.2575</td>\n",
       "      <td>0.6638</td>\n",
       "      <td>0.17300</td>\n",
       "    </tr>\n",
       "    <tr>\n",
       "      <th>3</th>\n",
       "      <td>84358402</td>\n",
       "      <td>M</td>\n",
       "      <td>20.29</td>\n",
       "      <td>14.34</td>\n",
       "      <td>135.10</td>\n",
       "      <td>1297.0</td>\n",
       "      <td>0.10030</td>\n",
       "      <td>0.13280</td>\n",
       "      <td>0.1980</td>\n",
       "      <td>0.10430</td>\n",
       "      <td>...</td>\n",
       "      <td>22.54</td>\n",
       "      <td>16.67</td>\n",
       "      <td>152.20</td>\n",
       "      <td>1575.0</td>\n",
       "      <td>0.1374</td>\n",
       "      <td>0.2050</td>\n",
       "      <td>0.4000</td>\n",
       "      <td>0.1625</td>\n",
       "      <td>0.2364</td>\n",
       "      <td>0.07678</td>\n",
       "    </tr>\n",
       "    <tr>\n",
       "      <th>4</th>\n",
       "      <td>843786</td>\n",
       "      <td>M</td>\n",
       "      <td>12.45</td>\n",
       "      <td>15.70</td>\n",
       "      <td>82.57</td>\n",
       "      <td>477.1</td>\n",
       "      <td>0.12780</td>\n",
       "      <td>0.17000</td>\n",
       "      <td>0.1578</td>\n",
       "      <td>0.08089</td>\n",
       "      <td>...</td>\n",
       "      <td>15.47</td>\n",
       "      <td>23.75</td>\n",
       "      <td>103.40</td>\n",
       "      <td>741.6</td>\n",
       "      <td>0.1791</td>\n",
       "      <td>0.5249</td>\n",
       "      <td>0.5355</td>\n",
       "      <td>0.1741</td>\n",
       "      <td>0.3985</td>\n",
       "      <td>0.12440</td>\n",
       "    </tr>\n",
       "  </tbody>\n",
       "</table>\n",
       "<p>5 rows × 32 columns</p>\n",
       "</div>"
      ],
      "text/plain": [
       "         ID Diagnosis  RadiusM  TextM   PeriM   AreaM  SmoothM  CompactM  \\\n",
       "0    842517         M    20.57  17.77  132.90  1326.0  0.08474   0.07864   \n",
       "1  84300903         M    19.69  21.25  130.00  1203.0  0.10960   0.15990   \n",
       "2  84348301         M    11.42  20.38   77.58   386.1  0.14250   0.28390   \n",
       "3  84358402         M    20.29  14.34  135.10  1297.0  0.10030   0.13280   \n",
       "4    843786         M    12.45  15.70   82.57   477.1  0.12780   0.17000   \n",
       "\n",
       "   ConcaveM  CPpointM    ...     RadiusW  TextW   PeriW   AreaW  SmoothW  \\\n",
       "0    0.0869   0.07017    ...       24.99  23.41  158.80  1956.0   0.1238   \n",
       "1    0.1974   0.12790    ...       23.57  25.53  152.50  1709.0   0.1444   \n",
       "2    0.2414   0.10520    ...       14.91  26.50   98.87   567.7   0.2098   \n",
       "3    0.1980   0.10430    ...       22.54  16.67  152.20  1575.0   0.1374   \n",
       "4    0.1578   0.08089    ...       15.47  23.75  103.40   741.6   0.1791   \n",
       "\n",
       "   CompactW  ConcaveW  CPpointW    SymW  FracDimW  \n",
       "0    0.1866    0.2416    0.1860  0.2750   0.08902  \n",
       "1    0.4245    0.4504    0.2430  0.3613   0.08758  \n",
       "2    0.8663    0.6869    0.2575  0.6638   0.17300  \n",
       "3    0.2050    0.4000    0.1625  0.2364   0.07678  \n",
       "4    0.5249    0.5355    0.1741  0.3985   0.12440  \n",
       "\n",
       "[5 rows x 32 columns]"
      ]
     },
     "execution_count": 5,
     "metadata": {},
     "output_type": "execute_result"
    }
   ],
   "source": [
    "#checking again if columns name has been changed\n",
    "cancer_df.head()"
   ]
  },
  {
   "cell_type": "code",
   "execution_count": 6,
   "metadata": {},
   "outputs": [
    {
     "data": {
      "text/plain": [
       "False"
      ]
     },
     "execution_count": 6,
     "metadata": {},
     "output_type": "execute_result"
    }
   ],
   "source": [
    "cancer_df.isnull().values.any()#checking if there is any missing value in the data set"
   ]
  },
  {
   "cell_type": "code",
   "execution_count": 7,
   "metadata": {},
   "outputs": [
    {
     "name": "stdout",
     "output_type": "stream",
     "text": [
      "<class 'pandas.core.frame.DataFrame'>\n",
      "RangeIndex: 568 entries, 0 to 567\n",
      "Data columns (total 32 columns):\n",
      "ID           568 non-null int64\n",
      "Diagnosis    568 non-null object\n",
      "RadiusM      568 non-null float64\n",
      "TextM        568 non-null float64\n",
      "PeriM        568 non-null float64\n",
      "AreaM        568 non-null float64\n",
      "SmoothM      568 non-null float64\n",
      "CompactM     568 non-null float64\n",
      "ConcaveM     568 non-null float64\n",
      "CPpointM     568 non-null float64\n",
      "SymM         568 non-null float64\n",
      "FracDimM     568 non-null float64\n",
      "RadiusSE     568 non-null float64\n",
      "TextSE       568 non-null float64\n",
      "PeriSE       568 non-null float64\n",
      "AreaSE       568 non-null float64\n",
      "SmoothSE     568 non-null float64\n",
      "CompactSE    568 non-null float64\n",
      "ConcaveSE    568 non-null float64\n",
      "CPpointSE    568 non-null float64\n",
      "SymSE        568 non-null float64\n",
      "FracDimSE    568 non-null float64\n",
      "RadiusW      568 non-null float64\n",
      "TextW        568 non-null float64\n",
      "PeriW        568 non-null float64\n",
      "AreaW        568 non-null float64\n",
      "SmoothW      568 non-null float64\n",
      "CompactW     568 non-null float64\n",
      "ConcaveW     568 non-null float64\n",
      "CPpointW     568 non-null float64\n",
      "SymW         568 non-null float64\n",
      "FracDimW     568 non-null float64\n",
      "dtypes: float64(30), int64(1), object(1)\n",
      "memory usage: 142.1+ KB\n"
     ]
    }
   ],
   "source": [
    "cancer_df.info()"
   ]
  },
  {
   "cell_type": "code",
   "execution_count": 8,
   "metadata": {},
   "outputs": [],
   "source": [
    "cancer_df.drop('ID', axis=1, inplace=True) #removing the first column \"ID\" which is not useful for the prediction"
   ]
  },
  {
   "cell_type": "code",
   "execution_count": 9,
   "metadata": {},
   "outputs": [
    {
     "data": {
      "text/plain": [
       "B    357\n",
       "M    211\n",
       "Name: Diagnosis, dtype: int64"
      ]
     },
     "execution_count": 9,
     "metadata": {},
     "output_type": "execute_result"
    }
   ],
   "source": [
    "cancer_df.loc[:, 'Diagnosis'].value_counts()# checking the total values for the two types of cancer"
   ]
  },
  {
   "cell_type": "code",
   "execution_count": 10,
   "metadata": {},
   "outputs": [
    {
     "data": {
      "text/plain": [
       "<matplotlib.axes._subplots.AxesSubplot at 0x1e35380b278>"
      ]
     },
     "execution_count": 10,
     "metadata": {},
     "output_type": "execute_result"
    },
    {
     "data": {
      "image/png": "[encoded data removed]",
      "text/plain": [
       "<Figure size 432x288 with 1 Axes>"
      ]
     },
     "metadata": {},
     "output_type": "display_data"
    }
   ],
   "source": [
    "cancer_df['Diagnosis'].value_counts().sort_values().plot.bar()"
   ]
  },
  {
   "cell_type": "code",
   "execution_count": 11,
   "metadata": {},
   "outputs": [],
   "source": [
    "#changing to categorical to numeric values for cancer type\n",
    "cancer_df.loc[cancer_df.loc[:, \"Diagnosis\"] == 'B', \"Diagnosis\"] = 1\n",
    "cancer_df.loc[cancer_df.loc[:, \"Diagnosis\"] == 'M', \"Diagnosis\"] = 2"
   ]
  },
  {
   "cell_type": "markdown",
   "metadata": {},
   "source": [
    "### Table -1 "
   ]
  },
  {
   "cell_type": "code",
   "execution_count": 12,
   "metadata": {},
   "outputs": [
    {
     "data": {
      "text/html": [
       "<div>\n",
       "<style scoped>\n",
       "    .dataframe tbody tr th:only-of-type {\n",
       "        vertical-align: middle;\n",
       "    }\n",
       "\n",
       "    .dataframe tbody tr th {\n",
       "        vertical-align: top;\n",
       "    }\n",
       "\n",
       "    .dataframe thead th {\n",
       "        text-align: right;\n",
       "    }\n",
       "</style>\n",
       "<table border=\"1\" class=\"dataframe\">\n",
       "  <thead>\n",
       "    <tr style=\"text-align: right;\">\n",
       "      <th></th>\n",
       "      <th>Diagnosis</th>\n",
       "      <th>RadiusM</th>\n",
       "      <th>TextM</th>\n",
       "      <th>PeriM</th>\n",
       "      <th>AreaM</th>\n",
       "      <th>SmoothM</th>\n",
       "      <th>CompactM</th>\n",
       "      <th>ConcaveM</th>\n",
       "      <th>CPpointM</th>\n",
       "      <th>SymM</th>\n",
       "      <th>...</th>\n",
       "      <th>RadiusW</th>\n",
       "      <th>TextW</th>\n",
       "      <th>PeriW</th>\n",
       "      <th>AreaW</th>\n",
       "      <th>SmoothW</th>\n",
       "      <th>CompactW</th>\n",
       "      <th>ConcaveW</th>\n",
       "      <th>CPpointW</th>\n",
       "      <th>SymW</th>\n",
       "      <th>FracDimW</th>\n",
       "    </tr>\n",
       "  </thead>\n",
       "  <tbody>\n",
       "    <tr>\n",
       "      <th>count</th>\n",
       "      <td>568.000000</td>\n",
       "      <td>568.000000</td>\n",
       "      <td>568.000000</td>\n",
       "      <td>568.000000</td>\n",
       "      <td>568.000000</td>\n",
       "      <td>568.000000</td>\n",
       "      <td>568.000000</td>\n",
       "      <td>568.000000</td>\n",
       "      <td>568.000000</td>\n",
       "      <td>568.000000</td>\n",
       "      <td>...</td>\n",
       "      <td>568.00000</td>\n",
       "      <td>568.000000</td>\n",
       "      <td>568.000000</td>\n",
       "      <td>568.000000</td>\n",
       "      <td>568.000000</td>\n",
       "      <td>568.000000</td>\n",
       "      <td>568.000000</td>\n",
       "      <td>568.000000</td>\n",
       "      <td>568.000000</td>\n",
       "      <td>568.000000</td>\n",
       "    </tr>\n",
       "    <tr>\n",
       "      <th>mean</th>\n",
       "      <td>1.371479</td>\n",
       "      <td>14.120491</td>\n",
       "      <td>19.305335</td>\n",
       "      <td>91.914754</td>\n",
       "      <td>654.279754</td>\n",
       "      <td>0.096321</td>\n",
       "      <td>0.104036</td>\n",
       "      <td>0.088427</td>\n",
       "      <td>0.048746</td>\n",
       "      <td>0.181055</td>\n",
       "      <td>...</td>\n",
       "      <td>16.25315</td>\n",
       "      <td>25.691919</td>\n",
       "      <td>107.125053</td>\n",
       "      <td>878.578873</td>\n",
       "      <td>0.132316</td>\n",
       "      <td>0.253541</td>\n",
       "      <td>0.271414</td>\n",
       "      <td>0.114341</td>\n",
       "      <td>0.289776</td>\n",
       "      <td>0.083884</td>\n",
       "    </tr>\n",
       "    <tr>\n",
       "      <th>std</th>\n",
       "      <td>0.483626</td>\n",
       "      <td>3.523416</td>\n",
       "      <td>4.288506</td>\n",
       "      <td>24.285848</td>\n",
       "      <td>351.923751</td>\n",
       "      <td>0.014046</td>\n",
       "      <td>0.052355</td>\n",
       "      <td>0.079294</td>\n",
       "      <td>0.038617</td>\n",
       "      <td>0.027319</td>\n",
       "      <td>...</td>\n",
       "      <td>4.82232</td>\n",
       "      <td>6.141662</td>\n",
       "      <td>33.474687</td>\n",
       "      <td>567.846267</td>\n",
       "      <td>0.022818</td>\n",
       "      <td>0.156523</td>\n",
       "      <td>0.207989</td>\n",
       "      <td>0.065484</td>\n",
       "      <td>0.061508</td>\n",
       "      <td>0.018017</td>\n",
       "    </tr>\n",
       "    <tr>\n",
       "      <th>min</th>\n",
       "      <td>1.000000</td>\n",
       "      <td>6.981000</td>\n",
       "      <td>9.710000</td>\n",
       "      <td>43.790000</td>\n",
       "      <td>143.500000</td>\n",
       "      <td>0.052630</td>\n",
       "      <td>0.019380</td>\n",
       "      <td>0.000000</td>\n",
       "      <td>0.000000</td>\n",
       "      <td>0.106000</td>\n",
       "      <td>...</td>\n",
       "      <td>7.93000</td>\n",
       "      <td>12.020000</td>\n",
       "      <td>50.410000</td>\n",
       "      <td>185.200000</td>\n",
       "      <td>0.071170</td>\n",
       "      <td>0.027290</td>\n",
       "      <td>0.000000</td>\n",
       "      <td>0.000000</td>\n",
       "      <td>0.156500</td>\n",
       "      <td>0.055040</td>\n",
       "    </tr>\n",
       "    <tr>\n",
       "      <th>25%</th>\n",
       "      <td>1.000000</td>\n",
       "      <td>11.697500</td>\n",
       "      <td>16.177500</td>\n",
       "      <td>75.135000</td>\n",
       "      <td>420.175000</td>\n",
       "      <td>0.086290</td>\n",
       "      <td>0.064815</td>\n",
       "      <td>0.029540</td>\n",
       "      <td>0.020310</td>\n",
       "      <td>0.161900</td>\n",
       "      <td>...</td>\n",
       "      <td>13.01000</td>\n",
       "      <td>21.095000</td>\n",
       "      <td>84.102500</td>\n",
       "      <td>514.975000</td>\n",
       "      <td>0.116600</td>\n",
       "      <td>0.146900</td>\n",
       "      <td>0.114475</td>\n",
       "      <td>0.064730</td>\n",
       "      <td>0.250350</td>\n",
       "      <td>0.071412</td>\n",
       "    </tr>\n",
       "    <tr>\n",
       "      <th>50%</th>\n",
       "      <td>1.000000</td>\n",
       "      <td>13.355000</td>\n",
       "      <td>18.855000</td>\n",
       "      <td>86.210000</td>\n",
       "      <td>548.750000</td>\n",
       "      <td>0.095865</td>\n",
       "      <td>0.092525</td>\n",
       "      <td>0.061400</td>\n",
       "      <td>0.033455</td>\n",
       "      <td>0.179200</td>\n",
       "      <td>...</td>\n",
       "      <td>14.96500</td>\n",
       "      <td>25.425000</td>\n",
       "      <td>97.655000</td>\n",
       "      <td>685.550000</td>\n",
       "      <td>0.131300</td>\n",
       "      <td>0.211850</td>\n",
       "      <td>0.226550</td>\n",
       "      <td>0.099840</td>\n",
       "      <td>0.282050</td>\n",
       "      <td>0.080015</td>\n",
       "    </tr>\n",
       "    <tr>\n",
       "      <th>75%</th>\n",
       "      <td>2.000000</td>\n",
       "      <td>15.780000</td>\n",
       "      <td>21.802500</td>\n",
       "      <td>103.875000</td>\n",
       "      <td>782.625000</td>\n",
       "      <td>0.105300</td>\n",
       "      <td>0.130400</td>\n",
       "      <td>0.129650</td>\n",
       "      <td>0.073730</td>\n",
       "      <td>0.195625</td>\n",
       "      <td>...</td>\n",
       "      <td>18.76750</td>\n",
       "      <td>29.757500</td>\n",
       "      <td>125.175000</td>\n",
       "      <td>1073.500000</td>\n",
       "      <td>0.146000</td>\n",
       "      <td>0.337600</td>\n",
       "      <td>0.381400</td>\n",
       "      <td>0.161325</td>\n",
       "      <td>0.317675</td>\n",
       "      <td>0.092065</td>\n",
       "    </tr>\n",
       "    <tr>\n",
       "      <th>max</th>\n",
       "      <td>2.000000</td>\n",
       "      <td>28.110000</td>\n",
       "      <td>39.280000</td>\n",
       "      <td>188.500000</td>\n",
       "      <td>2501.000000</td>\n",
       "      <td>0.163400</td>\n",
       "      <td>0.345400</td>\n",
       "      <td>0.426800</td>\n",
       "      <td>0.201200</td>\n",
       "      <td>0.304000</td>\n",
       "      <td>...</td>\n",
       "      <td>36.04000</td>\n",
       "      <td>49.540000</td>\n",
       "      <td>251.200000</td>\n",
       "      <td>4254.000000</td>\n",
       "      <td>0.222600</td>\n",
       "      <td>1.058000</td>\n",
       "      <td>1.252000</td>\n",
       "      <td>0.291000</td>\n",
       "      <td>0.663800</td>\n",
       "      <td>0.207500</td>\n",
       "    </tr>\n",
       "  </tbody>\n",
       "</table>\n",
       "<p>8 rows × 31 columns</p>\n",
       "</div>"
      ],
      "text/plain": [
       "        Diagnosis     RadiusM       TextM       PeriM        AreaM  \\\n",
       "count  568.000000  568.000000  568.000000  568.000000   568.000000   \n",
       "mean     1.371479   14.120491   19.305335   91.914754   654.279754   \n",
       "std      0.483626    3.523416    4.288506   24.285848   351.923751   \n",
       "min      1.000000    6.981000    9.710000   43.790000   143.500000   \n",
       "25%      1.000000   11.697500   16.177500   75.135000   420.175000   \n",
       "50%      1.000000   13.355000   18.855000   86.210000   548.750000   \n",
       "75%      2.000000   15.780000   21.802500  103.875000   782.625000   \n",
       "max      2.000000   28.110000   39.280000  188.500000  2501.000000   \n",
       "\n",
       "          SmoothM    CompactM    ConcaveM    CPpointM        SymM     ...      \\\n",
       "count  568.000000  568.000000  568.000000  568.000000  568.000000     ...       \n",
       "mean     0.096321    0.104036    0.088427    0.048746    0.181055     ...       \n",
       "std      0.014046    0.052355    0.079294    0.038617    0.027319     ...       \n",
       "min      0.052630    0.019380    0.000000    0.000000    0.106000     ...       \n",
       "25%      0.086290    0.064815    0.029540    0.020310    0.161900     ...       \n",
       "50%      0.095865    0.092525    0.061400    0.033455    0.179200     ...       \n",
       "75%      0.105300    0.130400    0.129650    0.073730    0.195625     ...       \n",
       "max      0.163400    0.345400    0.426800    0.201200    0.304000     ...       \n",
       "\n",
       "         RadiusW       TextW       PeriW        AreaW     SmoothW    CompactW  \\\n",
       "count  568.00000  568.000000  568.000000   568.000000  568.000000  568.000000   \n",
       "mean    16.25315   25.691919  107.125053   878.578873    0.132316    0.253541   \n",
       "std      4.82232    6.141662   33.474687   567.846267    0.022818    0.156523   \n",
       "min      7.93000   12.020000   50.410000   185.200000    0.071170    0.027290   \n",
       "25%     13.01000   21.095000   84.102500   514.975000    0.116600    0.146900   \n",
       "50%     14.96500   25.425000   97.655000   685.550000    0.131300    0.211850   \n",
       "75%     18.76750   29.757500  125.175000  1073.500000    0.146000    0.337600   \n",
       "max     36.04000   49.540000  251.200000  4254.000000    0.222600    1.058000   \n",
       "\n",
       "         ConcaveW    CPpointW        SymW    FracDimW  \n",
       "count  568.000000  568.000000  568.000000  568.000000  \n",
       "mean     0.271414    0.114341    0.289776    0.083884  \n",
       "std      0.207989    0.065484    0.061508    0.018017  \n",
       "min      0.000000    0.000000    0.156500    0.055040  \n",
       "25%      0.114475    0.064730    0.250350    0.071412  \n",
       "50%      0.226550    0.099840    0.282050    0.080015  \n",
       "75%      0.381400    0.161325    0.317675    0.092065  \n",
       "max      1.252000    0.291000    0.663800    0.207500  \n",
       "\n",
       "[8 rows x 31 columns]"
      ]
     },
     "execution_count": 12,
     "metadata": {},
     "output_type": "execute_result"
    }
   ],
   "source": [
    "cancer_df.describe()# checking the basic statistics summary for all the features (all features are numeric)"
   ]
  },
  {
   "cell_type": "markdown",
   "metadata": {},
   "source": [
    "# Data Visualization and exploratory data analysis"
   ]
  },
  {
   "cell_type": "markdown",
   "metadata": {},
   "source": [
    "### Fig:1"
   ]
  },
  {
   "cell_type": "code",
   "execution_count": 13,
   "metadata": {},
   "outputs": [
    {
     "data": {
      "text/plain": [
       "array([[<matplotlib.axes._subplots.AxesSubplot object at 0x000001E35399DE80>,\n",
       "        <matplotlib.axes._subplots.AxesSubplot object at 0x000001E3539C76D8>,\n",
       "        <matplotlib.axes._subplots.AxesSubplot object at 0x000001E3539EF9E8>,\n",
       "        <matplotlib.axes._subplots.AxesSubplot object at 0x000001E353A1ACF8>,\n",
       "        <matplotlib.axes._subplots.AxesSubplot object at 0x000001E353A4C048>,\n",
       "        <matplotlib.axes._subplots.AxesSubplot object at 0x000001E353A4C080>],\n",
       "       [<matplotlib.axes._subplots.AxesSubplot object at 0x000001E353CAF630>,\n",
       "        <matplotlib.axes._subplots.AxesSubplot object at 0x000001E353CD7940>,\n",
       "        <matplotlib.axes._subplots.AxesSubplot object at 0x000001E353D01C50>,\n",
       "        <matplotlib.axes._subplots.AxesSubplot object at 0x000001E353D2EF60>,\n",
       "        <matplotlib.axes._subplots.AxesSubplot object at 0x000001E353D612B0>,\n",
       "        <matplotlib.axes._subplots.AxesSubplot object at 0x000001E353D8A5C0>],\n",
       "       [<matplotlib.axes._subplots.AxesSubplot object at 0x000001E353DB48D0>,\n",
       "        <matplotlib.axes._subplots.AxesSubplot object at 0x000001E353DDFBE0>,\n",
       "        <matplotlib.axes._subplots.AxesSubplot object at 0x000001E353E08EF0>,\n",
       "        <matplotlib.axes._subplots.AxesSubplot object at 0x000001E353E3D240>,\n",
       "        <matplotlib.axes._subplots.AxesSubplot object at 0x000001E353E66550>,\n",
       "        <matplotlib.axes._subplots.AxesSubplot object at 0x000001E353E91860>],\n",
       "       [<matplotlib.axes._subplots.AxesSubplot object at 0x000001E353EBAB70>,\n",
       "        <matplotlib.axes._subplots.AxesSubplot object at 0x000001E353EE5E80>,\n",
       "        <matplotlib.axes._subplots.AxesSubplot object at 0x000001E353F191D0>,\n",
       "        <matplotlib.axes._subplots.AxesSubplot object at 0x000001E353F404E0>,\n",
       "        <matplotlib.axes._subplots.AxesSubplot object at 0x000001E353F6B7F0>,\n",
       "        <matplotlib.axes._subplots.AxesSubplot object at 0x000001E353F95B00>],\n",
       "       [<matplotlib.axes._subplots.AxesSubplot object at 0x000001E353FC2E10>,\n",
       "        <matplotlib.axes._subplots.AxesSubplot object at 0x000001E353FF6160>,\n",
       "        <matplotlib.axes._subplots.AxesSubplot object at 0x000001E35401E470>,\n",
       "        <matplotlib.axes._subplots.AxesSubplot object at 0x000001E354047780>,\n",
       "        <matplotlib.axes._subplots.AxesSubplot object at 0x000001E354072A90>,\n",
       "        <matplotlib.axes._subplots.AxesSubplot object at 0x000001E35409EDA0>],\n",
       "       [<matplotlib.axes._subplots.AxesSubplot object at 0x000001E3540D10F0>,\n",
       "        <matplotlib.axes._subplots.AxesSubplot object at 0x000001E3540FA400>,\n",
       "        <matplotlib.axes._subplots.AxesSubplot object at 0x000001E354124710>,\n",
       "        <matplotlib.axes._subplots.AxesSubplot object at 0x000001E35414DA20>,\n",
       "        <matplotlib.axes._subplots.AxesSubplot object at 0x000001E354176D30>,\n",
       "        <matplotlib.axes._subplots.AxesSubplot object at 0x000001E3541AC080>]],\n",
       "      dtype=object)"
      ]
     },
     "execution_count": 13,
     "metadata": {},
     "output_type": "execute_result"
    },
    {
     "data": {
      "image/png": "[encoded data removed]",
      "text/plain": [
       "<Figure size 1080x1296 with 36 Axes>"
      ]
     },
     "metadata": {},
     "output_type": "display_data"
    }
   ],
   "source": [
    "#checking the distribution for all the features by histogram\n",
    "from matplotlib import rcParams # to change the rc setting \n",
    "rcParams['figure.figsize'] = 15, 18\n",
    "cancer_df.hist()"
   ]
  },
  {
   "cell_type": "markdown",
   "metadata": {},
   "source": [
    "This data frame has 3-types of values for 10 features - mean values for 10 features, SE value for 10 features, and worst values for 10 featues. How they are calculated is explained in the introduction. Below data is changed into 3 data frame for mean, SE and worst values."
   ]
  },
  {
   "cell_type": "code",
   "execution_count": 14,
   "metadata": {},
   "outputs": [
    {
     "name": "stdout",
     "output_type": "stream",
     "text": [
      "(568, 10)\n",
      "Index(['RadiusM', 'TextM', 'PeriM', 'AreaM', 'SmoothM', 'CompactM', 'ConcaveM',\n",
      "       'CPpointM', 'SymM', 'FracDimM'],\n",
      "      dtype='object')\n",
      "(568, 10)\n",
      "Index(['RadiusSE', 'TextSE', 'PeriSE', 'AreaSE', 'SmoothSE', 'CompactSE',\n",
      "       'ConcaveSE', 'CPpointSE', 'SymSE', 'FracDimSE'],\n",
      "      dtype='object')\n",
      "(568, 10)\n",
      "Index(['RadiusW', 'TextW', 'PeriW', 'AreaW', 'SmoothW', 'CompactW', 'ConcaveW',\n",
      "       'CPpointW', 'SymW', 'FracDimW'],\n",
      "      dtype='object')\n"
     ]
    }
   ],
   "source": [
    "#changing the data frame into three data frames for mean values, SD values and worst values\n",
    "features_mean = cancer_df.iloc[:, 1:11]\n",
    "features_SE = cancer_df.iloc[:, 11:21]\n",
    "features_W = cancer_df.iloc[:, 21:31]\n",
    "print(features_mean.shape)\n",
    "print(features_mean.columns)\n",
    "print(features_SE.shape)\n",
    "print(features_SE.columns)\n",
    "print(features_W.shape)\n",
    "print(features_W.columns)"
   ]
  },
  {
   "cell_type": "markdown",
   "metadata": {},
   "source": [
    "Normalization is important to visulize featuers into one plot. Below is the function for z-normalization and three data frame has been normalized seperately."
   ]
  },
  {
   "cell_type": "code",
   "execution_count": 18,
   "metadata": {},
   "outputs": [],
   "source": [
    "# normalization of data to visualize features on the same plot\n",
    "# Scale function\n",
    "def scale(col):\n",
    "    mean_col = np.mean(col)\n",
    "    sd_col = np.std(col)\n",
    "    std = (col - mean_col) / sd_col\n",
    "    return std\n",
    "features_mean_scale = scale(features_mean)#scaling for mean features\n",
    "features_SE_scale = scale(features_SE)#scaling SE features\n",
    "features_W_scale = scale(features_W)# scaling worst features\n",
    "y = cancer_df.loc[:, 'Diagnosis']"
   ]
  },
  {
   "cell_type": "markdown",
   "metadata": {},
   "source": [
    "### Fig:3 a Box plots"
   ]
  },
  {
   "cell_type": "code",
   "execution_count": 19,
   "metadata": {},
   "outputs": [
    {
     "data": {
      "text/plain": [
       "(array([0, 1, 2, 3, 4, 5, 6, 7, 8, 9]), <a list of 10 Text xticklabel objects>)"
      ]
     },
     "execution_count": 19,
     "metadata": {},
     "output_type": "execute_result"
    },
    {
     "data": {
      "image/png": "[encoded data removed]",
      "text/plain": [
       "<Figure size 720x720 with 1 Axes>"
      ]
     },
     "metadata": {},
     "output_type": "display_data"
    }
   ],
   "source": [
    "# To see the distribution of data in respect to diagnosis, box plots are plotted for features mean, features SE and features worst.\n",
    "data = pd.concat([y,features_mean_scale],axis=1)\n",
    "#melt is for groupby features  with Diagnosis\n",
    "data = pd.melt(data,id_vars=\"Diagnosis\",\n",
    "                    var_name=\"features\",\n",
    "                    value_name='value')\n",
    "plt.figure(figsize=(10,10))\n",
    "sns.boxplot(x=\"features\", y=\"value\", hue=\"Diagnosis\", data=data)\n",
    "plt.xticks(rotation=90)"
   ]
  },
  {
   "cell_type": "markdown",
   "metadata": {},
   "source": [
    "### Fig: 3b Box plot for features_SE with respect to diagnosis "
   ]
  },
  {
   "cell_type": "code",
   "execution_count": 20,
   "metadata": {},
   "outputs": [
    {
     "data": {
      "text/plain": [
       "(array([0, 1, 2, 3, 4, 5, 6, 7, 8, 9]), <a list of 10 Text xticklabel objects>)"
      ]
     },
     "execution_count": 20,
     "metadata": {},
     "output_type": "execute_result"
    },
    {
     "data": {
      "image/png": "[encoded data removed]",
      "text/plain": [
       "<Figure size 720x720 with 1 Axes>"
      ]
     },
     "metadata": {},
     "output_type": "display_data"
    }
   ],
   "source": [
    "data = pd.concat([y,features_SE_scale],axis=1)\n",
    "#melt is for groupby features  with Diagnosis\n",
    "data = pd.melt(data,id_vars=\"Diagnosis\",\n",
    "                    var_name=\"features\",\n",
    "                    value_name='value')\n",
    "plt.figure(figsize=(10,10))\n",
    "sns.boxplot(x=\"features\", y=\"value\", hue=\"Diagnosis\", data=data)\n",
    "plt.xticks(rotation=90)"
   ]
  },
  {
   "cell_type": "markdown",
   "metadata": {},
   "source": [
    "### Fig 3 c Box plot for features_worst with respect to diagnosis"
   ]
  },
  {
   "cell_type": "code",
   "execution_count": 21,
   "metadata": {},
   "outputs": [
    {
     "data": {
      "text/plain": [
       "(array([0, 1, 2, 3, 4, 5, 6, 7, 8, 9]), <a list of 10 Text xticklabel objects>)"
      ]
     },
     "execution_count": 21,
     "metadata": {},
     "output_type": "execute_result"
    },
    {
     "data": {
      "image/png": "[encoded data removed]",
      "text/plain": [
       "<Figure size 720x720 with 1 Axes>"
      ]
     },
     "metadata": {},
     "output_type": "display_data"
    }
   ],
   "source": [
    "data = pd.concat([y,features_W_scale],axis=1)\n",
    "#melt is for groupby features  with Diagnosis\n",
    "data = pd.melt(data,id_vars=\"Diagnosis\",\n",
    "                    var_name=\"features\",\n",
    "                    value_name='value')\n",
    "plt.figure(figsize=(10,10))\n",
    "sns.boxplot(x=\"features\", y=\"value\", hue=\"Diagnosis\", data=data)\n",
    "plt.xticks(rotation=90)"
   ]
  },
  {
   "cell_type": "markdown",
   "metadata": {},
   "source": [
    "# Feature selection "
   ]
  },
  {
   "cell_type": "markdown",
   "metadata": {},
   "source": [
    "There might be some features those are not contributing to the prediction of the type of cancer and can interfere with the prediction of model. These features may be correlated to each other and we can remove some of these features for the model improvement. Coorelation cofficients are calculated and heat map also created to check correlation between the features"
   ]
  },
  {
   "cell_type": "markdown",
   "metadata": {},
   "source": [
    "### Table:2 a. correlation cofficients for mean _features"
   ]
  },
  {
   "cell_type": "code",
   "execution_count": 22,
   "metadata": {
    "scrolled": true
   },
   "outputs": [
    {
     "data": {
      "text/html": [
       "<div>\n",
       "<style scoped>\n",
       "    .dataframe tbody tr th:only-of-type {\n",
       "        vertical-align: middle;\n",
       "    }\n",
       "\n",
       "    .dataframe tbody tr th {\n",
       "        vertical-align: top;\n",
       "    }\n",
       "\n",
       "    .dataframe thead th {\n",
       "        text-align: right;\n",
       "    }\n",
       "</style>\n",
       "<table border=\"1\" class=\"dataframe\">\n",
       "  <thead>\n",
       "    <tr style=\"text-align: right;\">\n",
       "      <th></th>\n",
       "      <th>Diagnosis</th>\n",
       "      <th>RadiusM</th>\n",
       "      <th>TextM</th>\n",
       "      <th>PeriM</th>\n",
       "      <th>AreaM</th>\n",
       "      <th>SmoothM</th>\n",
       "      <th>CompactM</th>\n",
       "      <th>ConcaveM</th>\n",
       "      <th>CPpointM</th>\n",
       "      <th>SymM</th>\n",
       "      <th>FracDimM</th>\n",
       "    </tr>\n",
       "  </thead>\n",
       "  <tbody>\n",
       "    <tr>\n",
       "      <th>Diagnosis</th>\n",
       "      <td>1.000000</td>\n",
       "      <td>0.729376</td>\n",
       "      <td>0.422146</td>\n",
       "      <td>0.741887</td>\n",
       "      <td>0.708389</td>\n",
       "      <td>0.356276</td>\n",
       "      <td>0.595587</td>\n",
       "      <td>0.695648</td>\n",
       "      <td>0.776369</td>\n",
       "      <td>0.327336</td>\n",
       "      <td>-0.018099</td>\n",
       "    </tr>\n",
       "    <tr>\n",
       "      <th>RadiusM</th>\n",
       "      <td>0.729376</td>\n",
       "      <td>1.000000</td>\n",
       "      <td>0.329383</td>\n",
       "      <td>0.997876</td>\n",
       "      <td>0.987344</td>\n",
       "      <td>0.168094</td>\n",
       "      <td>0.505129</td>\n",
       "      <td>0.676557</td>\n",
       "      <td>0.823165</td>\n",
       "      <td>0.144236</td>\n",
       "      <td>-0.317749</td>\n",
       "    </tr>\n",
       "    <tr>\n",
       "      <th>TextM</th>\n",
       "      <td>0.422146</td>\n",
       "      <td>0.329383</td>\n",
       "      <td>1.000000</td>\n",
       "      <td>0.335918</td>\n",
       "      <td>0.326193</td>\n",
       "      <td>-0.017769</td>\n",
       "      <td>0.252038</td>\n",
       "      <td>0.315248</td>\n",
       "      <td>0.305590</td>\n",
       "      <td>0.080146</td>\n",
       "      <td>-0.068771</td>\n",
       "    </tr>\n",
       "    <tr>\n",
       "      <th>PeriM</th>\n",
       "      <td>0.741887</td>\n",
       "      <td>0.997876</td>\n",
       "      <td>0.335918</td>\n",
       "      <td>1.000000</td>\n",
       "      <td>0.986548</td>\n",
       "      <td>0.204505</td>\n",
       "      <td>0.555676</td>\n",
       "      <td>0.715662</td>\n",
       "      <td>0.851338</td>\n",
       "      <td>0.179100</td>\n",
       "      <td>-0.268103</td>\n",
       "    </tr>\n",
       "    <tr>\n",
       "      <th>AreaM</th>\n",
       "      <td>0.708389</td>\n",
       "      <td>0.987344</td>\n",
       "      <td>0.326193</td>\n",
       "      <td>0.986548</td>\n",
       "      <td>1.000000</td>\n",
       "      <td>0.174838</td>\n",
       "      <td>0.497981</td>\n",
       "      <td>0.686232</td>\n",
       "      <td>0.824246</td>\n",
       "      <td>0.148219</td>\n",
       "      <td>-0.288560</td>\n",
       "    </tr>\n",
       "    <tr>\n",
       "      <th>SmoothM</th>\n",
       "      <td>0.356276</td>\n",
       "      <td>0.168094</td>\n",
       "      <td>-0.017769</td>\n",
       "      <td>0.204505</td>\n",
       "      <td>0.174838</td>\n",
       "      <td>1.000000</td>\n",
       "      <td>0.657741</td>\n",
       "      <td>0.519002</td>\n",
       "      <td>0.551009</td>\n",
       "      <td>0.555259</td>\n",
       "      <td>0.582435</td>\n",
       "    </tr>\n",
       "    <tr>\n",
       "      <th>CompactM</th>\n",
       "      <td>0.595587</td>\n",
       "      <td>0.505129</td>\n",
       "      <td>0.252038</td>\n",
       "      <td>0.555676</td>\n",
       "      <td>0.497981</td>\n",
       "      <td>0.657741</td>\n",
       "      <td>1.000000</td>\n",
       "      <td>0.881619</td>\n",
       "      <td>0.829050</td>\n",
       "      <td>0.598095</td>\n",
       "      <td>0.560161</td>\n",
       "    </tr>\n",
       "    <tr>\n",
       "      <th>ConcaveM</th>\n",
       "      <td>0.695648</td>\n",
       "      <td>0.676557</td>\n",
       "      <td>0.315248</td>\n",
       "      <td>0.715662</td>\n",
       "      <td>0.686232</td>\n",
       "      <td>0.519002</td>\n",
       "      <td>0.881619</td>\n",
       "      <td>1.000000</td>\n",
       "      <td>0.920462</td>\n",
       "      <td>0.495525</td>\n",
       "      <td>0.329768</td>\n",
       "    </tr>\n",
       "    <tr>\n",
       "      <th>CPpointM</th>\n",
       "      <td>0.776369</td>\n",
       "      <td>0.823165</td>\n",
       "      <td>0.305590</td>\n",
       "      <td>0.851338</td>\n",
       "      <td>0.824246</td>\n",
       "      <td>0.551009</td>\n",
       "      <td>0.829050</td>\n",
       "      <td>0.920462</td>\n",
       "      <td>1.000000</td>\n",
       "      <td>0.457171</td>\n",
       "      <td>0.158464</td>\n",
       "    </tr>\n",
       "    <tr>\n",
       "      <th>SymM</th>\n",
       "      <td>0.327336</td>\n",
       "      <td>0.144236</td>\n",
       "      <td>0.080146</td>\n",
       "      <td>0.179100</td>\n",
       "      <td>0.148219</td>\n",
       "      <td>0.555259</td>\n",
       "      <td>0.598095</td>\n",
       "      <td>0.495525</td>\n",
       "      <td>0.457171</td>\n",
       "      <td>1.000000</td>\n",
       "      <td>0.475301</td>\n",
       "    </tr>\n",
       "    <tr>\n",
       "      <th>FracDimM</th>\n",
       "      <td>-0.018099</td>\n",
       "      <td>-0.317749</td>\n",
       "      <td>-0.068771</td>\n",
       "      <td>-0.268103</td>\n",
       "      <td>-0.288560</td>\n",
       "      <td>0.582435</td>\n",
       "      <td>0.560161</td>\n",
       "      <td>0.329768</td>\n",
       "      <td>0.158464</td>\n",
       "      <td>0.475301</td>\n",
       "      <td>1.000000</td>\n",
       "    </tr>\n",
       "  </tbody>\n",
       "</table>\n",
       "</div>"
      ],
      "text/plain": [
       "           Diagnosis   RadiusM     TextM     PeriM     AreaM   SmoothM  \\\n",
       "Diagnosis   1.000000  0.729376  0.422146  0.741887  0.708389  0.356276   \n",
       "RadiusM     0.729376  1.000000  0.329383  0.997876  0.987344  0.168094   \n",
       "TextM       0.422146  0.329383  1.000000  0.335918  0.326193 -0.017769   \n",
       "PeriM       0.741887  0.997876  0.335918  1.000000  0.986548  0.204505   \n",
       "AreaM       0.708389  0.987344  0.326193  0.986548  1.000000  0.174838   \n",
       "SmoothM     0.356276  0.168094 -0.017769  0.204505  0.174838  1.000000   \n",
       "CompactM    0.595587  0.505129  0.252038  0.555676  0.497981  0.657741   \n",
       "ConcaveM    0.695648  0.676557  0.315248  0.715662  0.686232  0.519002   \n",
       "CPpointM    0.776369  0.823165  0.305590  0.851338  0.824246  0.551009   \n",
       "SymM        0.327336  0.144236  0.080146  0.179100  0.148219  0.555259   \n",
       "FracDimM   -0.018099 -0.317749 -0.068771 -0.268103 -0.288560  0.582435   \n",
       "\n",
       "           CompactM  ConcaveM  CPpointM      SymM  FracDimM  \n",
       "Diagnosis  0.595587  0.695648  0.776369  0.327336 -0.018099  \n",
       "RadiusM    0.505129  0.676557  0.823165  0.144236 -0.317749  \n",
       "TextM      0.252038  0.315248  0.305590  0.080146 -0.068771  \n",
       "PeriM      0.555676  0.715662  0.851338  0.179100 -0.268103  \n",
       "AreaM      0.497981  0.686232  0.824246  0.148219 -0.288560  \n",
       "SmoothM    0.657741  0.519002  0.551009  0.555259  0.582435  \n",
       "CompactM   1.000000  0.881619  0.829050  0.598095  0.560161  \n",
       "ConcaveM   0.881619  1.000000  0.920462  0.495525  0.329768  \n",
       "CPpointM   0.829050  0.920462  1.000000  0.457171  0.158464  \n",
       "SymM       0.598095  0.495525  0.457171  1.000000  0.475301  \n",
       "FracDimM   0.560161  0.329768  0.158464  0.475301  1.000000  "
      ]
     },
     "execution_count": 22,
     "metadata": {},
     "output_type": "execute_result"
    }
   ],
   "source": [
    "#correlation plots for three data frames seperately to check if there is collinealty between the features\n",
    "#checking co-relation between the features_mean\n",
    "Mean_corr = cancer_df[['Diagnosis','RadiusM', 'TextM', 'PeriM' , 'AreaM', 'SmoothM', 'CompactM' , 'ConcaveM', 'CPpointM', 'SymM', 'FracDimM']].corr()\n",
    "Mean_corr"
   ]
  },
  {
   "cell_type": "code",
   "execution_count": 23,
   "metadata": {},
   "outputs": [
    {
     "data": {
      "text/plain": [
       "(array([ 0.5,  1.5,  2.5,  3.5,  4.5,  5.5,  6.5,  7.5,  8.5,  9.5, 10.5]),\n",
       " <a list of 11 Text xticklabel objects>)"
      ]
     },
     "execution_count": 23,
     "metadata": {},
     "output_type": "execute_result"
    },
    {
     "data": {
      "image/png": "[encoded data removed]",
      "text/plain": [
       "<Figure size 720x720 with 2 Axes>"
      ]
     },
     "metadata": {},
     "output_type": "display_data"
    }
   ],
   "source": [
    "#Further checking relationship by plotting heat map\n",
    "fig, ax = plt.subplots(figsize=(10, 10))\n",
    "sns.heatmap(Mean_corr, vmax=.6, center=0,\n",
    "            square=True, linewidths=.25, cbar_kws={\"shrink\": .5})\n",
    "plt.title('Correlation matrix for features mean')\n",
    "plt.yticks(rotation='horizontal')\n",
    "plt.xticks(rotation='vertical')"
   ]
  },
  {
   "cell_type": "markdown",
   "metadata": {},
   "source": [
    "### Table 2b  Correlation among features_SE"
   ]
  },
  {
   "cell_type": "code",
   "execution_count": 24,
   "metadata": {},
   "outputs": [
    {
     "name": "stdout",
     "output_type": "stream",
     "text": [
      "           Diagnosis  RadiusSE    TextSE    PeriSE    AreaSE  SmoothSE  \\\n",
      "Diagnosis   1.000000  0.565373 -0.007024  0.554416  0.546343 -0.066629   \n",
      "RadiusSE    0.565373  1.000000  0.216973  0.972555  0.951299  0.166369   \n",
      "TextSE     -0.007024  0.216973  1.000000  0.227668  0.114701  0.397158   \n",
      "PeriSE      0.554416  0.972555  0.227668  1.000000  0.936973  0.153235   \n",
      "AreaSE      0.546343  0.951299  0.114701  0.936973  1.000000  0.076509   \n",
      "SmoothSE   -0.066629  0.166369  0.397158  0.153235  0.076509  1.000000   \n",
      "CompactSE   0.290866  0.352758  0.233432  0.413312  0.281035  0.337722   \n",
      "ConcaveSE   0.252567  0.331148  0.195864  0.361600  0.269319  0.269093   \n",
      "CPpointSE   0.407293  0.513456  0.231095  0.557131  0.415262  0.328818   \n",
      "SymSE      -0.009170  0.237103  0.413361  0.262925  0.129938  0.414437   \n",
      "FracDimSE   0.076068  0.225172  0.280908  0.241505  0.123864  0.428043   \n",
      "\n",
      "           CompactSE  ConcaveSE  CPpointSE     SymSE  FracDimSE  \n",
      "Diagnosis   0.290866   0.252567   0.407293 -0.009170   0.076068  \n",
      "RadiusSE    0.352758   0.331148   0.513456  0.237103   0.225172  \n",
      "TextSE      0.233432   0.195864   0.231095  0.413361   0.280908  \n",
      "PeriSE      0.413312   0.361600   0.557131  0.262925   0.241505  \n",
      "AreaSE      0.281035   0.269319   0.415262  0.129938   0.123864  \n",
      "SmoothSE    0.337722   0.269093   0.328818  0.414437   0.428043  \n",
      "CompactSE   1.000000   0.801183   0.743973  0.393106   0.802973  \n",
      "ConcaveSE   0.801183   1.000000   0.771614  0.308465   0.727078  \n",
      "CPpointSE   0.743973   0.771614   1.000000  0.311926   0.610666  \n",
      "SymSE       0.393106   0.308465   0.311926  1.000000   0.367937  \n",
      "FracDimSE   0.802973   0.727078   0.610666  0.367937   1.000000  \n"
     ]
    },
    {
     "data": {
      "text/plain": [
       "(array([ 0.5,  1.5,  2.5,  3.5,  4.5,  5.5,  6.5,  7.5,  8.5,  9.5, 10.5]),\n",
       " <a list of 11 Text xticklabel objects>)"
      ]
     },
     "execution_count": 24,
     "metadata": {},
     "output_type": "execute_result"
    },
    {
     "data": {
      "image/png": "[encoded data removed]",
      "text/plain": [
       "<Figure size 720x720 with 2 Axes>"
      ]
     },
     "metadata": {},
     "output_type": "display_data"
    }
   ],
   "source": [
    "#checking co-relation between the features_SE\n",
    "SE_corr = cancer_df[['Diagnosis','RadiusSE', 'TextSE', 'PeriSE' , 'AreaSE', 'SmoothSE', 'CompactSE' , 'ConcaveSE', 'CPpointSE', 'SymSE', 'FracDimSE']].corr()\n",
    "print(SE_corr)\n",
    "fig, ax = plt.subplots(figsize=(10, 10))\n",
    "sns.heatmap(SE_corr, vmax=.6, center=0,\n",
    "            square=True, linewidths=.25, cbar_kws={\"shrink\": .5})\n",
    "plt.title('Correlation matrix for features SE')\n",
    "plt.yticks(rotation='horizontal')\n",
    "plt.xticks(rotation='vertical')"
   ]
  },
  {
   "cell_type": "markdown",
   "metadata": {},
   "source": [
    "### Table: 2c Correlation among features _worst"
   ]
  },
  {
   "cell_type": "code",
   "execution_count": 25,
   "metadata": {},
   "outputs": [
    {
     "name": "stdout",
     "output_type": "stream",
     "text": [
      "           Diagnosis   RadiusW     TextW     PeriW     AreaW   SmoothW  \\\n",
      "Diagnosis   1.000000  0.775725  0.461443  0.782470  0.732925  0.419731   \n",
      "RadiusW     0.775725  1.000000  0.366179  0.993814  0.983919  0.213220   \n",
      "TextW       0.461443  0.366179  1.000000  0.372962  0.352448  0.229277   \n",
      "PeriW       0.782470  0.993814  0.372962  1.000000  0.977475  0.232911   \n",
      "AreaW       0.732925  0.983919  0.352448  0.977475  1.000000  0.205573   \n",
      "SmoothW     0.419731  0.213220  0.229277  0.232911  0.205573  1.000000   \n",
      "CompactW    0.589453  0.471449  0.369929  0.524406  0.433217  0.566435   \n",
      "ConcaveW    0.658348  0.570994  0.375497  0.615071  0.539917  0.516469   \n",
      "CPpointW    0.793181  0.785908  0.367555  0.814596  0.745417  0.545762   \n",
      "SymW        0.413382  0.236712  0.241615  0.261299  0.201508  0.491526   \n",
      "FracDimW    0.320983  0.087622  0.224867  0.132155  0.073323  0.616128   \n",
      "\n",
      "           CompactW  ConcaveW  CPpointW      SymW  FracDimW  \n",
      "Diagnosis  0.589453  0.658348  0.793181  0.413382  0.320983  \n",
      "RadiusW    0.471449  0.570994  0.785908  0.236712  0.087622  \n",
      "TextW      0.369929  0.375497  0.367555  0.241615  0.224867  \n",
      "PeriW      0.524406  0.615071  0.814596  0.261299  0.132155  \n",
      "AreaW      0.433217  0.539917  0.745417  0.201508  0.073323  \n",
      "SmoothW    0.566435  0.516469  0.545762  0.491526  0.616128  \n",
      "CompactW   1.000000  0.891409  0.799028  0.609502  0.809083  \n",
      "ConcaveW   0.891409  1.000000  0.854217  0.527890  0.684258  \n",
      "CPpointW   0.799028  0.854217  1.000000  0.497027  0.507314  \n",
      "SymW       0.609502  0.527890  0.497027  1.000000  0.533789  \n",
      "FracDimW   0.809083  0.684258  0.507314  0.533789  1.000000  \n"
     ]
    },
    {
     "data": {
      "text/plain": [
       "(array([ 0.5,  1.5,  2.5,  3.5,  4.5,  5.5,  6.5,  7.5,  8.5,  9.5, 10.5]),\n",
       " <a list of 11 Text xticklabel objects>)"
      ]
     },
     "execution_count": 25,
     "metadata": {},
     "output_type": "execute_result"
    },
    {
     "data": {
      "image/png": "[encoded data removed]",
      "text/plain": [
       "<Figure size 720x720 with 2 Axes>"
      ]
     },
     "metadata": {},
     "output_type": "display_data"
    }
   ],
   "source": [
    "#checking co-relation between the features_worst\n",
    "Worst_corr = cancer_df[['Diagnosis','RadiusW', 'TextW', 'PeriW' , 'AreaW', 'SmoothW', 'CompactW' , 'ConcaveW', 'CPpointW', 'SymW', 'FracDimW']].corr()\n",
    "print(Worst_corr)\n",
    "fig, ax = plt.subplots(figsize=(10, 10))\n",
    "sns.heatmap(Worst_corr, vmax=.6, center=0,\n",
    "            square=True, linewidths=.25, cbar_kws={\"shrink\": .5})\n",
    "plt.title('Correlation matrix for features worst')\n",
    "plt.yticks(rotation='horizontal')\n",
    "plt.xticks(rotation='vertical')"
   ]
  },
  {
   "cell_type": "markdown",
   "metadata": {},
   "source": [
    "According to correlation cofficient, Area, Perimeter and Radius were highly correlated with each other for mean, SE and worst features. By checking distribution plots for these features, PeriM, Peri SE and RadiusW were selected for the regression model. FracDimSE, SymSE, SmoothSE, TextSE, FracDimM, are showing no relation wiht diagnosis. Total 19 features were selected out of 30 features. Highly correlated features has been dropped."
   ]
  },
  {
   "cell_type": "markdown",
   "metadata": {},
   "source": [
    "# Linear Regression model"
   ]
  },
  {
   "cell_type": "code",
   "execution_count": 26,
   "metadata": {},
   "outputs": [],
   "source": [
    "#Building a linear regression model to predict cancer type with all the selected features\n",
    "# dropping all the columns those are corelated to other features and not related with target label\n",
    "target_label = 'Diagnosis'\n",
    "drop_list = ['RadiusM', 'AreaM', 'AreaSE', 'RadiusSE', 'TextSE', 'FracDimSE','SymSE','SmoothSE', 'FracDimM','PeriW', 'AreaW']\n",
    "cancer_df_selected = cancer_df.drop(drop_list,axis = 1 )# new cancer dataframe with 19 selected features        "
   ]
  },
  {
   "cell_type": "code",
   "execution_count": 27,
   "metadata": {},
   "outputs": [
    {
     "name": "stdout",
     "output_type": "stream",
     "text": [
      "Index(['Diagnosis', 'TextM', 'PeriM', 'SmoothM', 'CompactM', 'ConcaveM',\n",
      "       'CPpointM', 'SymM', 'PeriSE', 'CompactSE', 'ConcaveSE', 'CPpointSE',\n",
      "       'RadiusW', 'TextW', 'SmoothW', 'CompactW', 'ConcaveW', 'CPpointW',\n",
      "       'SymW', 'FracDimW'],\n",
      "      dtype='object')\n",
      "Diagnosis\n"
     ]
    }
   ],
   "source": [
    "print(cancer_df_selected.columns)\n",
    "print(target_label)"
   ]
  },
  {
   "cell_type": "code",
   "execution_count": 28,
   "metadata": {
    "scrolled": true
   },
   "outputs": [],
   "source": [
    "X = cancer_df_selected.drop('Diagnosis', axis =1)\n",
    "y = cancer_df_selected['Diagnosis']"
   ]
  },
  {
   "cell_type": "code",
   "execution_count": 29,
   "metadata": {},
   "outputs": [],
   "source": [
    "#scaling new features\n",
    "X_scale = scale(X)"
   ]
  },
  {
   "cell_type": "code",
   "execution_count": 41,
   "metadata": {
    "scrolled": false
   },
   "outputs": [
    {
     "name": "stdout",
     "output_type": "stream",
     "text": [
      "Intercept, Slope : Intercept    1.371479\n",
      "TextM        0.044743\n",
      "PeriM        0.003527\n",
      "SmoothM     -0.009032\n",
      "CompactM    -0.165502\n",
      "ConcaveM     0.065062\n",
      "CPpointM     0.134143\n",
      "SymM        -0.003603\n",
      "PeriSE       0.010968\n",
      "CompactSE    0.003941\n",
      "ConcaveSE   -0.125599\n",
      "CPpointSE    0.108342\n",
      "RadiusW      0.174215\n",
      "TextW        0.026351\n",
      "SmoothW      0.052630\n",
      "CompactW    -0.001404\n",
      "ConcaveW     0.107159\n",
      "CPpointW    -0.011883\n",
      "SymW         0.064227\n",
      "FracDimW     0.051012\n",
      "dtype: float64\n",
      "SSE: 98.85560152296739\n",
      "SST: 132.61795774647885\n",
      "SSR: 33.76235622351146\n",
      "RMSE: 2.2809924147058562\n",
      "                            OLS Regression Results                            \n",
      "==============================================================================\n",
      "Dep. Variable:                      y   R-squared:                       0.745\n",
      "Model:                            OLS   Adj. R-squared:                  0.737\n",
      "Method:                 Least Squares   F-statistic:                     84.45\n",
      "Date:                Thu, 15 Nov 2018   Prob (F-statistic):          6.68e-149\n",
      "Time:                        23:44:22   Log-Likelihood:                -4.2890\n",
      "No. Observations:                 568   AIC:                             48.58\n",
      "Df Residuals:                     548   BIC:                             135.4\n",
      "Df Model:                          19                                         \n",
      "Covariance Type:            nonrobust                                         \n",
      "==============================================================================\n",
      "                 coef    std err          t      P>|t|      [0.025      0.975]\n",
      "------------------------------------------------------------------------------\n",
      "Intercept      1.3715      0.010    131.685      0.000       1.351       1.392\n",
      "TextM          0.0447      0.030      1.485      0.138      -0.014       0.104\n",
      "PeriM          0.0035      0.059      0.060      0.952      -0.113       0.120\n",
      "SmoothM       -0.0090      0.027     -0.335      0.738      -0.062       0.044\n",
      "CompactM      -0.1655      0.047     -3.521      0.000      -0.258      -0.073\n",
      "ConcaveM       0.0651      0.082      0.796      0.426      -0.095       0.226\n",
      "CPpointM       0.1341      0.077      1.744      0.082      -0.017       0.285\n",
      "SymM          -0.0036      0.019     -0.185      0.853      -0.042       0.035\n",
      "PeriSE         0.0110      0.021      0.534      0.593      -0.029       0.051\n",
      "CompactSE      0.0039      0.032      0.122      0.903      -0.059       0.067\n",
      "ConcaveSE     -0.1256      0.038     -3.322      0.001      -0.200      -0.051\n",
      "CPpointSE      0.1083      0.031      3.490      0.001       0.047       0.169\n",
      "RadiusW        0.1742      0.058      3.001      0.003       0.060       0.288\n",
      "TextW          0.0264      0.031      0.842      0.400      -0.035       0.088\n",
      "SmoothW        0.0526      0.025      2.111      0.035       0.004       0.102\n",
      "CompactW      -0.0014      0.053     -0.026      0.979      -0.106       0.104\n",
      "ConcaveW       0.1072      0.055      1.936      0.053      -0.002       0.216\n",
      "CPpointW      -0.0119      0.057     -0.207      0.836      -0.125       0.101\n",
      "SymW           0.0642      0.020      3.217      0.001       0.025       0.103\n",
      "FracDimW       0.0510      0.025      2.082      0.038       0.003       0.099\n",
      "==============================================================================\n",
      "Omnibus:                       30.243   Durbin-Watson:                   1.710\n",
      "Prob(Omnibus):                  0.000   Jarque-Bera (JB):               33.828\n",
      "Skew:                           0.558   Prob(JB):                     4.51e-08\n",
      "Kurtosis:                       3.427   Cond. No.                         34.5\n",
      "==============================================================================\n",
      "\n",
      "Warnings:\n",
      "[1] Standard Errors assume that the covariance matrix of the errors is correctly specified.\n"
     ]
    }
   ],
   "source": [
    "import statsmodels.formula.api as sm\n",
    "ols_model = sm.ols(formula = 'y ~ TextM + PeriM + SmoothM + CompactM + ConcaveM + CPpointM + SymM + PeriSE + CompactSE + ConcaveSE + CPpointSE + RadiusW + TextW + SmoothW + CompactW + ConcaveW + CPpointW + SymW + FracDimW', data=X_scale)\n",
    "results = ols_model.fit()\n",
    "\n",
    "# Get slope (m) and y-intercept (b)\n",
    "print('Intercept, Slope : {}'.format(results.params))\n",
    "\n",
    "mean_y = np.mean(y)\n",
    "sst = np.sum((y - mean_y)**2)\n",
    "sse = sst - results.ssr\n",
    "print('SSE: {}'.format(sse))\n",
    "print('SST: {}'.format(sst))\n",
    "print('SSR: {}'.format(results.ssr))\n",
    "print('RMSE: {}'.format(np.sqrt(results.mse_model)))\n",
    "\n",
    "# Get most of the linear regression statistics:\n",
    "print(results.summary())\n"
   ]
  },
  {
   "cell_type": "markdown",
   "metadata": {},
   "source": [
    "RMSE is low but the value of R sqare is not very high. There are few features those are showing significant difference. p value of those feature is low and confidence- interval doesn't contain 0 value."
   ]
  },
  {
   "cell_type": "markdown",
   "metadata": {},
   "source": [
    "To further improve the regression model, tried to reduce the dimention by doing principal component analysis."
   ]
  },
  {
   "cell_type": "markdown",
   "metadata": {},
   "source": [
    "# Regularization of model by principal component analysis"
   ]
  },
  {
   "cell_type": "code",
   "execution_count": 34,
   "metadata": {},
   "outputs": [],
   "source": [
    "pca = PCA()\n",
    "pca_result = pca.fit_transform(X_scale)\n",
    "column_names = ['pc' + str(iX+1) for iX in range(X_scale.shape[1])]\n",
    "pca_df = pd.DataFrame(data = pca_result, columns=column_names)\n",
    "pca_df[target_label] = y"
   ]
  },
  {
   "cell_type": "code",
   "execution_count": 35,
   "metadata": {
    "scrolled": true
   },
   "outputs": [
    {
     "name": "stdout",
     "output_type": "stream",
     "text": [
      "[9.77996347e+00 2.56917843e+00 1.83986112e+00 1.57249648e+00\n",
      " 8.75063227e-01 8.30423806e-01 4.10049071e-01 2.63118146e-01\n",
      " 2.44399612e-01 1.61578162e-01 1.20721604e-01 1.08918945e-01\n",
      " 7.88954073e-02 6.17943746e-02 4.61918933e-02 2.76548417e-02\n",
      " 1.92503488e-02 1.57560140e-02 8.19474921e-03]\n"
     ]
    }
   ],
   "source": [
    "print(pca.explained_variance_)"
   ]
  },
  {
   "cell_type": "code",
   "execution_count": 36,
   "metadata": {},
   "outputs": [
    {
     "data": {
      "text/plain": [
       "Text(0,0.5,'Explained Variance')"
      ]
     },
     "execution_count": 36,
     "metadata": {},
     "output_type": "execute_result"
    },
    {
     "data": {
      "image/png": "[encoded data removed]",
      "text/plain": [
       "<Figure size 360x360 with 1 Axes>"
      ]
     },
     "metadata": {},
     "output_type": "display_data"
    }
   ],
   "source": [
    "fig, ax = plt.subplots(figsize=(5, 5))\n",
    "plt.plot(pca.explained_variance_[1:])\n",
    "plt.title('Explained variance by Principal Component Num')\n",
    "plt.xlabel('Principal Component')\n",
    "plt.ylabel('Explained Variance')"
   ]
  },
  {
   "cell_type": "markdown",
   "metadata": {},
   "source": [
    "# Principal component Regression"
   ]
  },
  {
   "cell_type": "code",
   "execution_count": 40,
   "metadata": {},
   "outputs": [
    {
     "name": "stdout",
     "output_type": "stream",
     "text": [
      "                            OLS Regression Results                            \n",
      "==============================================================================\n",
      "Dep. Variable:                      y   R-squared:                       0.721\n",
      "Model:                            OLS   Adj. R-squared:                  0.717\n",
      "Method:                 Least Squares   F-statistic:                     206.6\n",
      "Date:                Thu, 15 Nov 2018   Prob (F-statistic):          1.19e-150\n",
      "Time:                        23:34:38   Log-Likelihood:                -30.435\n",
      "No. Observations:                 568   AIC:                             76.87\n",
      "Df Residuals:                     560   BIC:                             111.6\n",
      "Df Model:                           7                                         \n",
      "Covariance Type:            nonrobust                                         \n",
      "==============================================================================\n",
      "                 coef    std err          t      P>|t|      [0.025      0.975]\n",
      "------------------------------------------------------------------------------\n",
      "Intercept      1.3715      0.011    127.130      0.000       1.350       1.393\n",
      "pc1            0.1141      0.003     33.054      0.000       0.107       0.121\n",
      "pc2            0.0950      0.007     14.099      0.000       0.082       0.108\n",
      "pc3           -0.0802      0.008    -10.074      0.000      -0.096      -0.065\n",
      "pc4           -0.0524      0.009     -6.088      0.000      -0.069      -0.036\n",
      "pc5            0.0232      0.012      2.013      0.045       0.001       0.046\n",
      "pc6            0.0141      0.012      1.188      0.236      -0.009       0.037\n",
      "pc7            0.0556      0.017      3.296      0.001       0.022       0.089\n",
      "==============================================================================\n",
      "Omnibus:                       22.082   Durbin-Watson:                   1.671\n",
      "Prob(Omnibus):                  0.000   Jarque-Bera (JB):               23.594\n",
      "Skew:                           0.488   Prob(JB):                     7.53e-06\n",
      "Kurtosis:                       3.214   Cond. No.                         4.88\n",
      "==============================================================================\n",
      "\n",
      "Warnings:\n",
      "[1] Standard Errors assume that the covariance matrix of the errors is correctly specified.\n"
     ]
    }
   ],
   "source": [
    "pcr_new = sm.ols(formula = 'y ~ pc1 + pc2 + pc3 + pc4 + pc5 + pc6 + pc7', data=pca_df)\n",
    "results_new = pcr_new.fit()\n",
    "n_points = pca_df.shape[0]\n",
    "y_output = pca_df['Diagnosis'].values.reshape(n_points, 1)\n",
    "\n",
    "# Get most of the linear regression statistics:\n",
    "print(results_new.summary())"
   ]
  },
  {
   "cell_type": "markdown",
   "metadata": {},
   "source": [
    "There are three principal components (pc1, pc2, and pc3) those are showing significant differnce. p value is very low and confidence intervel doesn't contain 0. Pricipal component regression was performed agin with these three components."
   ]
  },
  {
   "cell_type": "code",
   "execution_count": null,
   "metadata": {},
   "outputs": [],
   "source": [
    "n = 3\n",
    "formula_start =  target_label + ' ~ '\n",
    "formula_terms = ['pc' + str(x+1) for x in range(n)]\n",
    "formula_end = ' + '.join(formula_terms)\n",
    "formula_final = formula_start + formula_end\n",
    "\n",
    "pcr_model = sm.ols(formula = formula_final, data=pca_df)\n",
    "\n",
    "results = pcr_model.fit()\n",
    "\n",
    "# Get most of the linear regression statistics we are interested in:\n",
    "print(results.summary())\n",
    "\n",
    "# Plot a histogram of the residuals\n",
    "fig, ax = plt.subplots(figsize=(6, 6))\n",
    "sns.distplot(results.resid, hist=True)\n",
    "plt.xlabel('Residual')\n",
    "plt.ylabel('Frequency')\n",
    "plt.title('Residual Histogram')"
   ]
  },
  {
   "cell_type": "markdown",
   "metadata": {},
   "source": [
    "R sequare value didn't increase but it is similar with the linear regression R square values. Residual histogram also showing normal behaviour."
   ]
  },
  {
   "cell_type": "markdown",
   "metadata": {},
   "source": [
    "# Results and conclusions:\n",
    "-\tThere are 357 values for the benign cancer category and 211 values for the malignant category.\n",
    "-\tFrom the table 1 statistics summary, it can be seen that all the features have different inter-quantile range and mean of all the features is very different, therefore scaling is very important before doing any data analysis.\n",
    "-\tDistribution of data is visualized by the histogram (Fig: 1) and it can be seen that some features are more close to normal distribution such as SmoothW. \n",
    "-\tThere are some features such as Text M where benign and malignant categories are separated clearly and FracDimM, categories are not separated clearly (Fig: 3 a). Median of RadiusM, PeriM and AreaM are very similar and may show collinearity. \n",
    "-\tFurther, box plots are showing outliners in the features.\n",
    "-\tFor the feature selection, correlation coefficients were calculated and heat maps were also generated. According to correlation coefficients and distribution of data, 19 features were selected which can be potential features for the good model predictions. (Table : 5a, b, c)\n",
    "-\tA linear regression model was generated with selected 19 features. R square value  was 0.747 and adjusted R square value is 0.738. RMSE value was low (2.28) and  intercept was 1.3714 , p value was also low but F-statistic was not very high (85.06). This model is not very efficient and can not work well with testing data set or other data set. In order to improve the model, principal component were identified to reduce the dimensions. As shown in experience_ variance plot , there are 8 components those are contributing high variance but pc1, pc2 and pc3 are showing high variance and significant p value and their confidence interval doesn’t contain 0 value. Therefore, a PCR was performed with these three principal components. However, R square value and adjusted R Square values did not improve but the number of dimension has reduced from 20 to 3. "
   ]
  }
 ],
 "metadata": {
  "kernelspec": {
   "display_name": "Python 3",
   "language": "python",
   "name": "python3"
  },
  "language_info": {
   "codemirror_mode": {
    "name": "ipython",
    "version": 3
   },
   "file_extension": ".py",
   "mimetype": "text/x-python",
   "name": "python",
   "nbconvert_exporter": "python",
   "pygments_lexer": "ipython3",
   "version": "3.6.5"
  }
 },
 "nbformat": 4,
 "nbformat_minor": 2
}
